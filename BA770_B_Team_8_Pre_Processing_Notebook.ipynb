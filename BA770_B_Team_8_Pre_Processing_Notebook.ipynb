{
 "cells": [
  {
   "cell_type": "markdown",
   "metadata": {},
   "source": [
    "# Pre-Processing of data for Team 8"
   ]
  },
  {
   "cell_type": "markdown",
   "metadata": {},
   "source": [
    "\n",
    "Dongzhe Zhang, Fernanda Lin, Hongyang Liu, Lyufan Pan and Mansi Tolia"
   ]
  },
  {
   "cell_type": "markdown",
   "metadata": {},
   "source": [
    "This notebook is to be used before the notebook **\"BA770_B_Team_8_Final_Notebook\"** which processes data from Yelp.\n",
    "\n",
    "This shows the pre-processing steps needed to achieve the final results."
   ]
  },
  {
   "cell_type": "markdown",
   "metadata": {},
   "source": []
  },
  {
   "cell_type": "markdown",
   "metadata": {},
   "source": [
    "Creating Chosen_cities table by calculating calculating average weekly restaurant check-ins per city\n",
    "\n",
    "Organized cities by average check-ins in descending order. \n",
    "\n",
    "Selected the cities with the highest average check-ins and limited to 5"
   ]
  },
  {
   "cell_type": "code",
   "execution_count": 1,
   "metadata": {},
   "outputs": [
    {
     "data": {
      "text/html": [
       "\n",
       "    <div class=\"bqtv\" id=\"1_156626032882\"><table><tr><th>city</th><th>total_number_of_restaurants</th><th>total_checkins</th><th>average_checkins</th></tr><tr><td>Las Vegas</td><td>5741</td><td>3286131</td><td>572.396969169</td></tr><tr><td>Scottsdale</td><td>1398</td><td>756653</td><td>541.23962804</td></tr><tr><td>Phoenix</td><td>3508</td><td>1097825</td><td>312.948973774</td></tr><tr><td>Madison</td><td>970</td><td>127069</td><td>130.998969072</td></tr><tr><td>Pittsburgh</td><td>2141</td><td>276951</td><td>129.355908454</td></tr></table></div>\n",
       "    <br />(rows: 5, time: 7.8s,   142MB processed, job: job_KwDr3CFtCbrvnRlWkeua7CNg93Lp)<br />\n",
       "    <script src=\"/static/components/requirejs/require.js\"></script>\n",
       "    <script>\n",
       "      require.config({\n",
       "        paths: {\n",
       "          base: '/static/base',\n",
       "          d3: '//cdnjs.cloudflare.com/ajax/libs/d3/3.4.13/d3',\n",
       "          plotly: 'https://cdn.plot.ly/plotly-1.5.1.min.js?noext',\n",
       "          jquery: '//ajax.googleapis.com/ajax/libs/jquery/2.0.0/jquery.min'\n",
       "        },\n",
       "        map: {\n",
       "          '*': {\n",
       "            datalab: 'nbextensions/gcpdatalab'\n",
       "          }\n",
       "        },\n",
       "        shim: {\n",
       "          plotly: {\n",
       "            deps: ['d3', 'jquery'],\n",
       "            exports: 'plotly'\n",
       "          }\n",
       "        }\n",
       "      });\n",
       "\n",
       "      require(['datalab/charting', 'datalab/element!1_156626032882', 'base/js/events',\n",
       "          'datalab/style!/nbextensions/gcpdatalab/charting.css'],\n",
       "        function(charts, dom, events) {\n",
       "          charts.render('gcharts', dom, events, 'table', [], {\"rows\": [{\"c\": [{\"v\": \"Las Vegas\"}, {\"v\": 5741}, {\"v\": 3286131}, {\"v\": 572.3969691691343}]}, {\"c\": [{\"v\": \"Scottsdale\"}, {\"v\": 1398}, {\"v\": 756653}, {\"v\": 541.2396280400573}]}, {\"c\": [{\"v\": \"Phoenix\"}, {\"v\": 3508}, {\"v\": 1097825}, {\"v\": 312.94897377423035}]}, {\"c\": [{\"v\": \"Madison\"}, {\"v\": 970}, {\"v\": 127069}, {\"v\": 130.99896907216495}]}, {\"c\": [{\"v\": \"Pittsburgh\"}, {\"v\": 2141}, {\"v\": 276951}, {\"v\": 129.35590845399346}]}], \"cols\": [{\"type\": \"string\", \"id\": \"city\", \"label\": \"city\"}, {\"type\": \"number\", \"id\": \"total_number_of_restaurants\", \"label\": \"total_number_of_restaurants\"}, {\"type\": \"number\", \"id\": \"total_checkins\", \"label\": \"total_checkins\"}, {\"type\": \"number\", \"id\": \"average_checkins\", \"label\": \"average_checkins\"}]},\n",
       "            {\n",
       "              pageSize: 25,\n",
       "              cssClassNames:  {\n",
       "                tableRow: 'gchart-table-row',\n",
       "                headerRow: 'gchart-table-headerrow',\n",
       "                oddTableRow: 'gchart-table-oddrow',\n",
       "                selectedTableRow: 'gchart-table-selectedrow',\n",
       "                hoverTableRow: 'gchart-table-hoverrow',\n",
       "                tableCell: 'gchart-table-cell',\n",
       "                headerCell: 'gchart-table-headercell',\n",
       "                rowNumberCell: 'gchart-table-rownumcell'\n",
       "              }\n",
       "            },\n",
       "            {source_index: 0, fields: 'city,total_number_of_restaurants,total_checkins,average_checkins'},\n",
       "            0,\n",
       "            5);\n",
       "        }\n",
       "      );\n",
       "    </script>\n",
       "  "
      ],
      "text/plain": [
       "QueryResultsTable job_KwDr3CFtCbrvnRlWkeua7CNg93Lp"
      ]
     },
     "execution_count": 1,
     "metadata": {},
     "output_type": "execute_result"
    }
   ],
   "source": [
    "%%bq query\n",
    "\n",
    "SELECT city, \n",
    "      COUNT(DISTINCT busniness.business_id) AS total_number_of_restaurants, \n",
    "      SUM(checkins.checkins) AS total_checkins, \n",
    "      SUM(checkins.checkins)/COUNT(DISTINCT busniness.business_id) AS average_checkins\n",
    "FROM `team-8-bs-770-b.Yelp.Yelp_business` AS busniness\n",
    "  INNER JOIN `team-8-bs-770-b.Yelp.Checkins` AS checkins\n",
    "  USING ( business_id )\n",
    "WHERE categories LIKE '%Restaurant%' OR categories LIKE '%restaurant%'\n",
    "GROUP BY city, state\n",
    "HAVING AVG(stars) > 3.5 AND total_number_of_restaurants > 813\n",
    "ORDER BY average_checkins DESC\n",
    "LIMIT 5\n"
   ]
  },
  {
   "cell_type": "markdown",
   "metadata": {},
   "source": []
  },
  {
   "cell_type": "markdown",
   "metadata": {},
   "source": [
    "Creating the table “LasVegas_Nested_Table”"
   ]
  },
  {
   "cell_type": "code",
   "execution_count": null,
   "metadata": {},
   "outputs": [],
   "source": [
    "%%bq query\n",
    "\n",
    "SELECT\n",
    "  business_id,\n",
    "  name,\n",
    "  SPLIT(categories, \";\") AS All_Cat\n",
    "FROM\n",
    "  `team-8-bs-770-b.Yelp.Yelp_business`\n",
    "WHERE\n",
    "  city = \"Las Vegas\"\n",
    "  AND state = \"NV\"\n",
    "  AND categories LIKE ('%Restaurants%')\n",
    "\n",
    "# This query helps us split the “categories” column from the Yelp_business table into separate categories per restaurant"
   ]
  },
  {
   "cell_type": "markdown",
   "metadata": {},
   "source": []
  },
  {
   "cell_type": "markdown",
   "metadata": {},
   "source": [
    "Creating the table “Phoenix_Nested_Cat”"
   ]
  },
  {
   "cell_type": "code",
   "execution_count": null,
   "metadata": {},
   "outputs": [],
   "source": [
    "%%bq query\n",
    "\n",
    "SELECT\n",
    "  business_id,\n",
    "  name,\n",
    "  SPLIT(categories, \";\") AS All_Cat\n",
    "FROM\n",
    "  `team-8-bs-770-b.Yelp.Yelp_business`\n",
    "WHERE\n",
    "  city = \"Phoenix\"\n",
    "  AND state = \"AZ\"\n",
    "  AND categories LIKE ('%Restaurants%')\n",
    "\n",
    "# This query helps us split the “categories” column from the Yelp_business table into separate categories per restaurant"
   ]
  },
  {
   "cell_type": "markdown",
   "metadata": {},
   "source": []
  },
  {
   "cell_type": "markdown",
   "metadata": {},
   "source": [
    "Creating the table “Scottsdale_Nested_Cat”"
   ]
  },
  {
   "cell_type": "code",
   "execution_count": null,
   "metadata": {},
   "outputs": [],
   "source": [
    "%%bq query\n",
    "\n",
    "SELECT\n",
    "  business_id,\n",
    "  name,\n",
    "  SPLIT(categories, \";\") AS All_Cat\n",
    "FROM\n",
    "  `team-8-bs-770-b.Yelp.Yelp_business`\n",
    "WHERE\n",
    "  city = \"Scottsdale\"\n",
    "  AND state = \"AZ\"\n",
    "  AND categories LIKE ('%Restaurants%')\n",
    " \n",
    "# This query helps us split the “categories” column from the Yelp_business table into separate categories per restaurant"
   ]
  },
  {
   "cell_type": "markdown",
   "metadata": {},
   "source": []
  },
  {
   "cell_type": "markdown",
   "metadata": {},
   "source": [
    "Creating the table “LasVegas_Cat”"
   ]
  },
  {
   "cell_type": "code",
   "execution_count": null,
   "metadata": {},
   "outputs": [],
   "source": [
    "%%bq query\n",
    "\n",
    "SELECT business_id, each_cat \n",
    "FROM `team-8-bs-770-b.By_City.LasVegas_Nested_Table` \n",
    ", UNNEST( All_cat ) each_cat\n",
    "\n",
    "# This query helps us unnest the array in “LasVegas_Nested_Table”"
   ]
  },
  {
   "cell_type": "markdown",
   "metadata": {},
   "source": []
  },
  {
   "cell_type": "markdown",
   "metadata": {},
   "source": [
    "Creating the table “Phoenix_Cat”"
   ]
  },
  {
   "cell_type": "code",
   "execution_count": null,
   "metadata": {},
   "outputs": [],
   "source": [
    "%%bq query\n",
    "\n",
    "SELECT business_id, each_cat \n",
    "FROM `team-8-bs-770-b.By_City.Phoenix_Nested_Cat` \n",
    ", UNNEST( All_cat ) each_cat\n",
    "\n",
    "# This query helps us unnest the array in “Phoenix_Nested_Cat”"
   ]
  },
  {
   "cell_type": "markdown",
   "metadata": {},
   "source": []
  },
  {
   "cell_type": "markdown",
   "metadata": {},
   "source": [
    "Creating the table “Scottsdale_Cat”"
   ]
  },
  {
   "cell_type": "code",
   "execution_count": null,
   "metadata": {},
   "outputs": [],
   "source": [
    "%%bq query\n",
    "\n",
    "SELECT business_id, each_cat \n",
    "FROM `team-8-bs-770-b.By_City.Scottsdale_Nested_Cat` \n",
    ", UNNEST( All_cat ) each_cat\n",
    "\n",
    "# This query helps us unnest the array in “Scottsdale_Nested_Cat”"
   ]
  },
  {
   "cell_type": "markdown",
   "metadata": {},
   "source": []
  },
  {
   "cell_type": "markdown",
   "metadata": {},
   "source": [
    "Creating table Total_checkins to calculate the sum of check-ins for each business.\n"
   ]
  },
  {
   "cell_type": "code",
   "execution_count": null,
   "metadata": {},
   "outputs": [],
   "source": [
    "%%bq query\n",
    "CREATE TABLE IF NOT EXISTS By_City.Total_checkins\n",
    "AS\n",
    "SELECT business_id, sum(checkins) as total_checkins \n",
    "FROM `team-8-bs-770-b.Yelp.Checkins` group by business_id\n",
    "\n",
    "## This table contains business_id and their counts from Yelp.Checkins table"
   ]
  },
  {
   "cell_type": "markdown",
   "metadata": {},
   "source": []
  },
  {
   "cell_type": "markdown",
   "metadata": {},
   "source": [
    "Created 3 temporary tables, one per city, joining the columns business_id, name, city, stars, review_count, total_checkins, from tables Yelp_business and total_checkins: Las Vegas, Phoenix and Scottsdale.\n"
   ]
  },
  {
   "cell_type": "code",
   "execution_count": null,
   "metadata": {},
   "outputs": [],
   "source": [
    "%%bq query\n",
    "\n",
    "--For Las Vegas\n",
    "\n",
    "CREATE TABLE IF NOT EXISTS  Saved_queries.Temp_Vegas\n",
    "AS\n",
    "SELECT business_id, name, city, stars, review_count, total_checkins\n",
    "FROM `team-8-bs-770-b.Yelp.Yelp_business` \n",
    "  INNER JOIN `team-8-bs-770-b.By_City.Total_checkins` \n",
    "  USING (business_id)\n",
    "WHERE city = 'Las Vegas' AND\n",
    "    state = 'NV' AND\n",
    "    (categories LIKE '%Restaurant%' OR categories LIKE '%restaurant%')"
   ]
  },
  {
   "cell_type": "code",
   "execution_count": null,
   "metadata": {},
   "outputs": [],
   "source": [
    "%%bq query\n",
    "\n",
    "--For Phoenix\n",
    "\n",
    "CREATE TABLE IF NOT EXISTS  Phoenix_in_process1\n",
    "AS\n",
    "SELECT business_id, name, city, stars, review_count, total_checkins\n",
    "FROM `team-8-bs-770-b.Yelp.Yelp_business` \n",
    "  INNER JOIN `team-8-bs-770-b.By_City.Total_checkins` \n",
    "  USING (business_id)\n",
    "WHERE city = 'Phoenix' AND\n",
    "    state = 'AZ' AND\n",
    "    (categories LIKE '%Restaurant%' OR categories LIKE '%restaurant%')"
   ]
  },
  {
   "cell_type": "code",
   "execution_count": null,
   "metadata": {},
   "outputs": [],
   "source": [
    "%%bq query\n",
    "\n",
    "--For Scottsdale\n",
    "\n",
    "CREATETABLE IF NOT EXISTS  Categories_By_City.Scottsdale_in_process1\n",
    "AS\n",
    "SELECT business_id, name, city, stars, review_count, total_checkins\n",
    "FROM `team-8-bs-770-b.Yelp.Yelp_business` \n",
    "  INNER JOIN `team-8-bs-770-b.By_City.Total_checkins` \n",
    "  USING (business_id)\n",
    "WHERE city = 'Scottsdale' AND\n",
    "    state = 'AZ' AND\n",
    "    (categories LIKE '%Restaurant%' OR categories LIKE '%restaurant%')"
   ]
  },
  {
   "cell_type": "markdown",
   "metadata": {},
   "source": []
  },
  {
   "cell_type": "markdown",
   "metadata": {},
   "source": [
    "Then created a new table per city, by joining prior table to their respective category and business_ids."
   ]
  },
  {
   "cell_type": "code",
   "execution_count": null,
   "metadata": {},
   "outputs": [],
   "source": [
    "%%bq query\n",
    "\n",
    "--For Las Vegas:\n",
    "\n",
    "CREATE TABLE IF NOT EXISTS  Final_Tables.LasVegas\n",
    "AS\n",
    "SELECT * FROM `team-8-bs-770-b.Saved_queries_Temp_Vegas`\n",
    "INNER JOIN `team-8-bs-770-b.Saved_queries.LasVegas_Cat`\n",
    "USING (business_id)"
   ]
  },
  {
   "cell_type": "code",
   "execution_count": null,
   "metadata": {},
   "outputs": [],
   "source": [
    "%%bq query\n",
    "\n",
    "--For Phoenix:\n",
    "\n",
    "CREATETABLE IF NOT EXISTS  Phoenix_in_process2\n",
    "AS \n",
    "SELECT * FROM `team-8-bs-770-b.Categories_By_City.Phoenix_in_process1`\n",
    "INNER JOIN `team-8-bs-770-b.Saved_queries.Phoenix_Cat`\n",
    "USING (business_id)"
   ]
  },
  {
   "cell_type": "code",
   "execution_count": null,
   "metadata": {},
   "outputs": [],
   "source": [
    "%%bq query\n",
    "\n",
    "--For Scottsdale\n",
    "\n",
    "CREATETABLE IF NOT EXISTS  Categories_By_City.Scottsdale_in_process2\n",
    "AS\n",
    "SELECT * FROM `team-8-bs-770-b.Categories_By_City.Scottsdale_in_process1`\n",
    "INNER JOIN `team-8-bs-770-b.Saved_queries.Scottsdale_Cat`\n",
    "USING (business_id)"
   ]
  },
  {
   "cell_type": "markdown",
   "metadata": {},
   "source": []
  },
  {
   "cell_type": "markdown",
   "metadata": {},
   "source": [
    "Cleaning process for 7 attributes being used"
   ]
  },
  {
   "cell_type": "code",
   "execution_count": 3,
   "metadata": {},
   "outputs": [
    {
     "data": {
      "text/html": [
       "\n",
       "    <div class=\"bqtv\" id=\"3_156685616363\"><table><tr><th>business_id</th><th>stars</th><th>BusinessAcceptsCreditCards</th><th>BusinessParking_garage</th><th>WheelchairAccessible</th><th>BikeParking</th><th>Alcohol</th><th>RestaurantsReservations</th><th>HappyHour</th><th>OutdoorSeating</th></tr><tr><td>X6lidaXqFC4SGRAxA97yRA</td><td>2.0</td><td>False</td><td>False</td><td>False</td><td>False</td><td>False</td><td>False</td><td>False</td><td>False</td></tr><tr><td>Vgy6FfL-l1Ikw7dmJjXr5w</td><td>2.0</td><td>False</td><td>False</td><td>False</td><td>False</td><td>False</td><td>False</td><td>True</td><td>False</td></tr><tr><td>8QmYK1h-K_Km42BCNd-hJw</td><td>2.0</td><td>False</td><td>False</td><td>False</td><td>False</td><td>False</td><td>False</td><td>False</td><td>False</td></tr><tr><td>M7xYOQztl4Db3Hp6LaAUNQ</td><td>2.0</td><td>False</td><td>False</td><td>False</td><td>False</td><td>False</td><td>False</td><td>False</td><td>True</td></tr><tr><td>s-Ma9P-hm4eLBlJy1PnJ3Q</td><td>2.0</td><td>False</td><td>False</td><td>True</td><td>False</td><td>False</td><td>False</td><td>False</td><td>False</td></tr><tr><td>feJ_LjOUElLmG3NLNbBFJg</td><td>2.0</td><td>False</td><td>False</td><td>False</td><td>False</td><td>False</td><td>False</td><td>False</td><td>False</td></tr><tr><td>OeeQkxeqdYTP5qNKGHznHQ</td><td>2.0</td><td>False</td><td>False</td><td>False</td><td>False</td><td>False</td><td>False</td><td>False</td><td>False</td></tr><tr><td>ZTnFd587gd21wuGDDDD3Ng</td><td>2.0</td><td>False</td><td>False</td><td>False</td><td>False</td><td>False</td><td>False</td><td>False</td><td>False</td></tr><tr><td>ArRALWe_LLc89RdBeQKscw</td><td>2.0</td><td>False</td><td>False</td><td>True</td><td>False</td><td>False</td><td>False</td><td>False</td><td>False</td></tr><tr><td>GeeR1ScER2WpFoJs1sTjsA</td><td>2.0</td><td>False</td><td>False</td><td>False</td><td>False</td><td>False</td><td>False</td><td>False</td><td>False</td></tr><tr><td>wYd77dbBhwHZqO2J4HJCbg</td><td>2.0</td><td>False</td><td>False</td><td>True</td><td>False</td><td>False</td><td>False</td><td>False</td><td>False</td></tr><tr><td>xgZSjkCv7ZiTmtcHMxZDxQ</td><td>2.0</td><td>False</td><td>False</td><td>True</td><td>False</td><td>False</td><td>False</td><td>False</td><td>False</td></tr><tr><td>gt_ZbWa2e8yfb4hTbHFZpA</td><td>2.0</td><td>False</td><td>False</td><td>False</td><td>False</td><td>False</td><td>False</td><td>False</td><td>False</td></tr><tr><td>iJWSjU80CFP5SjhrjEvRng</td><td>2.0</td><td>False</td><td>False</td><td>False</td><td>False</td><td>False</td><td>False</td><td>False</td><td>False</td></tr><tr><td>VaL-45FGVooh1Txm-e9xSA</td><td>2.0</td><td>False</td><td>False</td><td>False</td><td>True</td><td>False</td><td>False</td><td>False</td><td>False</td></tr><tr><td>9qIScKnMow7y8li_SsWYEg</td><td>2.0</td><td>False</td><td>False</td><td>False</td><td>False</td><td>False</td><td>False</td><td>False</td><td>False</td></tr><tr><td>djZua1IbMN9KBEWJXKW1MA</td><td>2.0</td><td>False</td><td>False</td><td>False</td><td>False</td><td>False</td><td>False</td><td>False</td><td>False</td></tr><tr><td>nsY7J0cdi6usTTswuy8hSA</td><td>2.0</td><td>False</td><td>False</td><td>True</td><td>False</td><td>False</td><td>False</td><td>False</td><td>False</td></tr><tr><td>n2PmOO8DyCGY1Tv2NBj4yA</td><td>2.0</td><td>False</td><td>False</td><td>False</td><td>True</td><td>False</td><td>False</td><td>False</td><td>False</td></tr><tr><td>R_U8YA_SVt_3z_f6_jEPtA</td><td>2.0</td><td>False</td><td>False</td><td>True</td><td>False</td><td>False</td><td>False</td><td>False</td><td>False</td></tr><tr><td>sk6Llx6o8PTsokVOpb0aAA</td><td>2.0</td><td>False</td><td>False</td><td>True</td><td>False</td><td>False</td><td>False</td><td>False</td><td>False</td></tr><tr><td>DtSfgYvhcUA1vda_Ypj7cQ</td><td>2.0</td><td>False</td><td>False</td><td>False</td><td>False</td><td>False</td><td>False</td><td>False</td><td>False</td></tr><tr><td>3Ou9p4zIJg4utQh7MDgKFg</td><td>2.0</td><td>False</td><td>False</td><td>False</td><td>False</td><td>False</td><td>False</td><td>False</td><td>False</td></tr><tr><td>VAXp38_w_6L8iHxYIcuGAQ</td><td>2.0</td><td>False</td><td>False</td><td>True</td><td>False</td><td>False</td><td>False</td><td>False</td><td>False</td></tr><tr><td>_8URoVfDFkJtuAM53sNyLQ</td><td>2.0</td><td>False</td><td>False</td><td>False</td><td>False</td><td>False</td><td>False</td><td>False</td><td>False</td></tr></table></div>\n",
       "    <br />(rows: 52652, time: 1.8s,     3MB processed, job: job_l5GRz6xcSwij1VY-AzBttut--0aL)<br />\n",
       "    <script src=\"/static/components/requirejs/require.js\"></script>\n",
       "    <script>\n",
       "      require.config({\n",
       "        paths: {\n",
       "          base: '/static/base',\n",
       "          d3: '//cdnjs.cloudflare.com/ajax/libs/d3/3.4.13/d3',\n",
       "          plotly: 'https://cdn.plot.ly/plotly-1.5.1.min.js?noext',\n",
       "          jquery: '//ajax.googleapis.com/ajax/libs/jquery/2.0.0/jquery.min'\n",
       "        },\n",
       "        map: {\n",
       "          '*': {\n",
       "            datalab: 'nbextensions/gcpdatalab'\n",
       "          }\n",
       "        },\n",
       "        shim: {\n",
       "          plotly: {\n",
       "            deps: ['d3', 'jquery'],\n",
       "            exports: 'plotly'\n",
       "          }\n",
       "        }\n",
       "      });\n",
       "\n",
       "      require(['datalab/charting', 'datalab/element!3_156685616363', 'base/js/events',\n",
       "          'datalab/style!/nbextensions/gcpdatalab/charting.css'],\n",
       "        function(charts, dom, events) {\n",
       "          charts.render('gcharts', dom, events, 'paged_table', [], {\"rows\": [{\"c\": [{\"v\": \"X6lidaXqFC4SGRAxA97yRA\"}, {\"v\": 2.0}, {\"v\": false}, {\"v\": false}, {\"v\": false}, {\"v\": false}, {\"v\": false}, {\"v\": false}, {\"v\": false}, {\"v\": false}]}, {\"c\": [{\"v\": \"Vgy6FfL-l1Ikw7dmJjXr5w\"}, {\"v\": 2.0}, {\"v\": false}, {\"v\": false}, {\"v\": false}, {\"v\": false}, {\"v\": false}, {\"v\": false}, {\"v\": true}, {\"v\": false}]}, {\"c\": [{\"v\": \"8QmYK1h-K_Km42BCNd-hJw\"}, {\"v\": 2.0}, {\"v\": false}, {\"v\": false}, {\"v\": false}, {\"v\": false}, {\"v\": false}, {\"v\": false}, {\"v\": false}, {\"v\": false}]}, {\"c\": [{\"v\": \"M7xYOQztl4Db3Hp6LaAUNQ\"}, {\"v\": 2.0}, {\"v\": false}, {\"v\": false}, {\"v\": false}, {\"v\": false}, {\"v\": false}, {\"v\": false}, {\"v\": false}, {\"v\": true}]}, {\"c\": [{\"v\": \"s-Ma9P-hm4eLBlJy1PnJ3Q\"}, {\"v\": 2.0}, {\"v\": false}, {\"v\": false}, {\"v\": true}, {\"v\": false}, {\"v\": false}, {\"v\": false}, {\"v\": false}, {\"v\": false}]}, {\"c\": [{\"v\": \"feJ_LjOUElLmG3NLNbBFJg\"}, {\"v\": 2.0}, {\"v\": false}, {\"v\": false}, {\"v\": false}, {\"v\": false}, {\"v\": false}, {\"v\": false}, {\"v\": false}, {\"v\": false}]}, {\"c\": [{\"v\": \"OeeQkxeqdYTP5qNKGHznHQ\"}, {\"v\": 2.0}, {\"v\": false}, {\"v\": false}, {\"v\": false}, {\"v\": false}, {\"v\": false}, {\"v\": false}, {\"v\": false}, {\"v\": false}]}, {\"c\": [{\"v\": \"ZTnFd587gd21wuGDDDD3Ng\"}, {\"v\": 2.0}, {\"v\": false}, {\"v\": false}, {\"v\": false}, {\"v\": false}, {\"v\": false}, {\"v\": false}, {\"v\": false}, {\"v\": false}]}, {\"c\": [{\"v\": \"ArRALWe_LLc89RdBeQKscw\"}, {\"v\": 2.0}, {\"v\": false}, {\"v\": false}, {\"v\": true}, {\"v\": false}, {\"v\": false}, {\"v\": false}, {\"v\": false}, {\"v\": false}]}, {\"c\": [{\"v\": \"GeeR1ScER2WpFoJs1sTjsA\"}, {\"v\": 2.0}, {\"v\": false}, {\"v\": false}, {\"v\": false}, {\"v\": false}, {\"v\": false}, {\"v\": false}, {\"v\": false}, {\"v\": false}]}, {\"c\": [{\"v\": \"wYd77dbBhwHZqO2J4HJCbg\"}, {\"v\": 2.0}, {\"v\": false}, {\"v\": false}, {\"v\": true}, {\"v\": false}, {\"v\": false}, {\"v\": false}, {\"v\": false}, {\"v\": false}]}, {\"c\": [{\"v\": \"xgZSjkCv7ZiTmtcHMxZDxQ\"}, {\"v\": 2.0}, {\"v\": false}, {\"v\": false}, {\"v\": true}, {\"v\": false}, {\"v\": false}, {\"v\": false}, {\"v\": false}, {\"v\": false}]}, {\"c\": [{\"v\": \"gt_ZbWa2e8yfb4hTbHFZpA\"}, {\"v\": 2.0}, {\"v\": false}, {\"v\": false}, {\"v\": false}, {\"v\": false}, {\"v\": false}, {\"v\": false}, {\"v\": false}, {\"v\": false}]}, {\"c\": [{\"v\": \"iJWSjU80CFP5SjhrjEvRng\"}, {\"v\": 2.0}, {\"v\": false}, {\"v\": false}, {\"v\": false}, {\"v\": false}, {\"v\": false}, {\"v\": false}, {\"v\": false}, {\"v\": false}]}, {\"c\": [{\"v\": \"VaL-45FGVooh1Txm-e9xSA\"}, {\"v\": 2.0}, {\"v\": false}, {\"v\": false}, {\"v\": false}, {\"v\": true}, {\"v\": false}, {\"v\": false}, {\"v\": false}, {\"v\": false}]}, {\"c\": [{\"v\": \"9qIScKnMow7y8li_SsWYEg\"}, {\"v\": 2.0}, {\"v\": false}, {\"v\": false}, {\"v\": false}, {\"v\": false}, {\"v\": false}, {\"v\": false}, {\"v\": false}, {\"v\": false}]}, {\"c\": [{\"v\": \"djZua1IbMN9KBEWJXKW1MA\"}, {\"v\": 2.0}, {\"v\": false}, {\"v\": false}, {\"v\": false}, {\"v\": false}, {\"v\": false}, {\"v\": false}, {\"v\": false}, {\"v\": false}]}, {\"c\": [{\"v\": \"nsY7J0cdi6usTTswuy8hSA\"}, {\"v\": 2.0}, {\"v\": false}, {\"v\": false}, {\"v\": true}, {\"v\": false}, {\"v\": false}, {\"v\": false}, {\"v\": false}, {\"v\": false}]}, {\"c\": [{\"v\": \"n2PmOO8DyCGY1Tv2NBj4yA\"}, {\"v\": 2.0}, {\"v\": false}, {\"v\": false}, {\"v\": false}, {\"v\": true}, {\"v\": false}, {\"v\": false}, {\"v\": false}, {\"v\": false}]}, {\"c\": [{\"v\": \"R_U8YA_SVt_3z_f6_jEPtA\"}, {\"v\": 2.0}, {\"v\": false}, {\"v\": false}, {\"v\": true}, {\"v\": false}, {\"v\": false}, {\"v\": false}, {\"v\": false}, {\"v\": false}]}, {\"c\": [{\"v\": \"sk6Llx6o8PTsokVOpb0aAA\"}, {\"v\": 2.0}, {\"v\": false}, {\"v\": false}, {\"v\": true}, {\"v\": false}, {\"v\": false}, {\"v\": false}, {\"v\": false}, {\"v\": false}]}, {\"c\": [{\"v\": \"DtSfgYvhcUA1vda_Ypj7cQ\"}, {\"v\": 2.0}, {\"v\": false}, {\"v\": false}, {\"v\": false}, {\"v\": false}, {\"v\": false}, {\"v\": false}, {\"v\": false}, {\"v\": false}]}, {\"c\": [{\"v\": \"3Ou9p4zIJg4utQh7MDgKFg\"}, {\"v\": 2.0}, {\"v\": false}, {\"v\": false}, {\"v\": false}, {\"v\": false}, {\"v\": false}, {\"v\": false}, {\"v\": false}, {\"v\": false}]}, {\"c\": [{\"v\": \"VAXp38_w_6L8iHxYIcuGAQ\"}, {\"v\": 2.0}, {\"v\": false}, {\"v\": false}, {\"v\": true}, {\"v\": false}, {\"v\": false}, {\"v\": false}, {\"v\": false}, {\"v\": false}]}, {\"c\": [{\"v\": \"_8URoVfDFkJtuAM53sNyLQ\"}, {\"v\": 2.0}, {\"v\": false}, {\"v\": false}, {\"v\": false}, {\"v\": false}, {\"v\": false}, {\"v\": false}, {\"v\": false}, {\"v\": false}]}], \"cols\": [{\"type\": \"string\", \"id\": \"business_id\", \"label\": \"business_id\"}, {\"type\": \"number\", \"id\": \"stars\", \"label\": \"stars\"}, {\"type\": \"boolean\", \"id\": \"BusinessAcceptsCreditCards\", \"label\": \"BusinessAcceptsCreditCards\"}, {\"type\": \"boolean\", \"id\": \"BusinessParking_garage\", \"label\": \"BusinessParking_garage\"}, {\"type\": \"boolean\", \"id\": \"WheelchairAccessible\", \"label\": \"WheelchairAccessible\"}, {\"type\": \"boolean\", \"id\": \"BikeParking\", \"label\": \"BikeParking\"}, {\"type\": \"boolean\", \"id\": \"Alcohol\", \"label\": \"Alcohol\"}, {\"type\": \"boolean\", \"id\": \"RestaurantsReservations\", \"label\": \"RestaurantsReservations\"}, {\"type\": \"boolean\", \"id\": \"HappyHour\", \"label\": \"HappyHour\"}, {\"type\": \"boolean\", \"id\": \"OutdoorSeating\", \"label\": \"OutdoorSeating\"}]},\n",
       "            {\n",
       "              pageSize: 25,\n",
       "              cssClassNames:  {\n",
       "                tableRow: 'gchart-table-row',\n",
       "                headerRow: 'gchart-table-headerrow',\n",
       "                oddTableRow: 'gchart-table-oddrow',\n",
       "                selectedTableRow: 'gchart-table-selectedrow',\n",
       "                hoverTableRow: 'gchart-table-hoverrow',\n",
       "                tableCell: 'gchart-table-cell',\n",
       "                headerCell: 'gchart-table-headercell',\n",
       "                rowNumberCell: 'gchart-table-rownumcell'\n",
       "              }\n",
       "            },\n",
       "            {source_index: 2, fields: 'business_id,stars,BusinessAcceptsCreditCards,BusinessParking_garage,WheelchairAccessible,BikeParking,Alcohol,RestaurantsReservations,HappyHour,OutdoorSeating'},\n",
       "            0,\n",
       "            52652);\n",
       "        }\n",
       "      );\n",
       "    </script>\n",
       "  "
      ],
      "text/plain": [
       "QueryResultsTable job_l5GRz6xcSwij1VY-AzBttut--0aL"
      ]
     },
     "execution_count": 3,
     "metadata": {},
     "output_type": "execute_result"
    }
   ],
   "source": [
    "%%bq query\n",
    "SELECT business_id, stars,\n",
    "CASE WHEN BusinessAcceptsCreditCards = 'TRUE' THEN TRUE\n",
    "ELSE FALSE END AS BusinessAcceptsCreditCards,\n",
    "CASE WHEN BusinessParking_garage = 'TRUE' THEN TRUE\n",
    "ELSE FALSE END AS BusinessParking_garage,\n",
    "CASE WHEN WheelchairAccessible = 'TRUE' THEN TRUE\n",
    "ELSE FALSE END AS WheelchairAccessible,\n",
    "CASE WHEN BikeParking = 'TRUE' THEN TRUE\n",
    "ELSE FALSE END AS BikeParking,\n",
    "CASE WHEN Alcohol = 'TRUE' THEN TRUE\n",
    "ELSE FALSE END AS Alcohol,\n",
    "CASE WHEN RestaurantsReservations = 'TRUE' THEN TRUE\n",
    "ELSE FALSE END AS RestaurantsReservations,\n",
    "CASE WHEN HappyHour = 'TRUE' THEN TRUE\n",
    "ELSE FALSE END AS HappyHour,\n",
    "CASE WHEN OutdoorSeating = 'TRUE' THEN TRUE\n",
    "ELSE FALSE END AS OutdoorSeating\n",
    "FROM `team-8-bs-770-b.Yelp.RestauranWatt`\n",
    "\n"
   ]
  },
  {
   "cell_type": "markdown",
   "metadata": {},
   "source": [
    "To observe the most used comments we joined the reviews table to the Yelp_business which contains the basic information for each business in the Yelp data base and filtered the businesses which are considered restaurants."
   ]
  },
  {
   "cell_type": "code",
   "execution_count": 1,
   "metadata": {},
   "outputs": [
    {
     "data": {
      "text/html": [
       "\n",
       "    <div class=\"bqtv\" id=\"1_156684809426\"><table><tr><th>stars</th><th>text</th></tr><tr><td>1</td><td>What a terrible experience and we didn't even get into the restaurant!\n",
       "\n",
       "I stopped to eat at Hooters with 3 friends after a concert last night. We had to wait in line for ab 20 minutes even though there were plenty of tables that appeared empty. A group of young men came by the entrance as we were waiting in line and appeared very drunk, were rowdy and at one point one of the young men pulled his pants down while one of his friends extinguished a cigarette in his buttocks. A few minutes later the same thing happened. The young men then got in line behind us for a few minutes, disappeared from said line and then appeared at the front of the line and were escorted right into the restaurant. \n",
       "\n",
       "Many individuals in the line were upset. An older man was talking to the manager and the manager did nothing to apologize to anyone for the ordeal and he did it with a smirk on his face. \n",
       "\n",
       "What a terrible display of customer service. It's no wonder the casino wasn't that full...if that type of service runs through the whole establishment.</td></tr><tr><td>1</td><td>This is that worst place to eat ...coffee lid was covered in dust and washroom was not cleaned for Days! Do not eat at here \n",
       "\n",
       "One star is still to much \n",
       "\n",
       "Go across the street for better and cleaner service aka pho Linh</td></tr><tr><td>1</td><td>My friend and I came here because of the grand opening BOGO. \n",
       "\n",
       "The interior was nice and comfortable. However, the food and service was not great. We came at 10:30pm when this place closes at midnight. We ordered our first round which came pretty quickly considering the restaurant wasn't full and busy. The sushi was ok but most of the nigiri was not fresh especially the squid. I took a bite and had to spit it because it was mushy and it smelled foul. \n",
       "\n",
       "Second round came and apparently it's already last call at 11:00pm so we were rushed to order everything at once.  Our second round most of the orders were incorrect such as my yellowtail hand roll came out as albacore and then suddenly we had edamame when we didn't write it on the paper. The funny thing is when you turn in the paper they sit in front of you and review what you ordered and they still get it wrong. No refills on our tea from 3 different people and when we did get a refill a busser brought us one cup of tea leaving my friends cup empty. When we asked to get a refill the manager came back and said they had shut off their tea machine and asked if water was ok...what other options do we have? They charged us $2 per tea and they think because they're closing up it's ok. They didn't even remove one tea charge from the bill for that. The worst part? My friend and I got pretty sick from eating here afterwards. Let's just say we are both dehydrated as a result of this. I would not come back here even if they had another BOGO.</td></tr><tr><td>1</td><td>The food was just meh. We had Pad Thai. However there was no tofu, and we thought that they didn't make it with authentic noodles. Plus the chicken tasted like BBQ chicken and there were very little peanuts. None of the ingredients were really correct. \n",
       "\n",
       "The service was quite slow. I.e. We had to get up to ask for more water. And the server slammed down our plates, without taking the appetizer plates first. To top it off, the table was sticky. :(</td></tr><tr><td>1</td><td>We used to go to this Chili's a lot because it's right in our neighborhood.  The service and food used to be pretty good.  For the last six months or so, the service has been terrible.  Last night, we went in for the last time.  We sat at a table for 15 minutes and were never even acknowledged by any staff person, so we got up and left.  Actually, no one even noticed that we left either!  That's pretty bad!  This place will get no more of my business!</td></tr><tr><td>1</td><td>Way overpriced and everything was salty. My $20 Bloody Mary wasn't worth $5. My husbands $23 tuna tartar was 4 chips with a bite of just ok tuna on each.</td></tr><tr><td>1</td><td>Food wasn't that great, cheese had no flavor at all. The consistency was more of water than cheese. They charged me another item and then it took about half an hour to finally get my money back for that item. Then one of the girls friend\\/bf decides to just cut to the front of the line and in front of me and starts ordering his food and gets served. And the same girl goes back to sitting with him when there's a huge line. Why is she even working there?</td></tr><tr><td>1</td><td>Screwed up my order twice. When I pointed out the second screw up, they just sent me packing. Won't be back.</td></tr><tr><td>1</td><td>I would compare the service in this restaurant to the service in a fast food restaurant.  The waitress was more interested for a group of us to hurry up and finish our food and leave.  No consideration was given to the fact that we were a group of friends having brunch and wanting to have a conversation between eating.  \n",
       "\n",
       "If spending more than 25 minutes in a restaurant eating and socializing in a is a norm for you - think twice about eating here.  Your conversation will be interrupted by the waitress who wants to remove your dishes while you are still eating and there is still food on everyones plates.  Certainly would not recommend.</td></tr><tr><td>1</td><td>Call me a contrarian, but I just don't get why this place has such good reviews.  I'm a New Yorker by birth and upbringing, and many would agree that New York has *the* best pizza.  But pizza came to the U.S. via Naples.  Settebello's explanation of why their pizza is small, soggy, and salty doesn't add up.\n",
       "\n",
       "We got there just before the late HH was about to end, so we ordered a wine and beer.  Six bucks for a draft beer pint is not my idea of happy hour pricing, unless maybe you're on the Strip.  But we weren't.\n",
       "\n",
       "The small HH menu listed individual pizzette for $5 each.  We asked our waiter if we'd get more if we ordered the regular pizza off the regular menu.  \"Definitely,\" he said.  So we did, assuming that it would be a normal pizza and we'd have leftovers.  I love leftovers.  Until we were presented with what usually passes for happy hour-sized pizza at other places.  And then watched as a man dining near us got his individual pizza, and realized we'd been had.  Two of those would have given us as much, or more than the one we got.  The waiter's response was that he guessed he'd made a bad call.  Yeah, real bad. I can't even remember the last time we didn't tip a waiter.\n",
       "\n",
       "And that was before we each took a tiny slice of the drooping, sloppy \"big\" pie.  Salty.  Flavorless.  Four bites and it was gone.\n",
       "\n",
       "The manager admitted that the Neapolitan style wasn't to everyone's taste, and offered to get us something else.  We declined, and simply finished our drinks and went down the street to Khoury's.  Now that was worth the four stars I'll be giving it. And next time we want pizza, we won't be going back to Settebello.  So utterly disappointing.</td></tr><tr><td>1</td><td>Not the best enchiladas or burrito I have tasted in my 50 years on this earth.  Better Mexican food can be had in Salt Lake City!  The chicken in the enchiladas was dry and cubed which to me means frozen and cheap!  For $10, the enchiladas is not worth it.</td></tr><tr><td>1</td><td>Malheureusement, leur politique d'entreprise laisse à désirer. Nous étions dix à manger et boire de la bière et quand notre amie est arrivée plus tard en soirée et qu'elle a demander un verre d'eau, le serveur et également de gérant d'établissement ont refusé de lui donner de l'eau. Ils avaient comme raisonnement que le client doit prendre soit de l'alcool ou bien manger pour obtenir un verre d'eau. Horrible gérance et ce n'est pas une place recommandée pour ceux et celles qui désirent être conducteur désigné. Probablement qu'ils devraient revoir les valeurs humaines.</td></tr><tr><td>1</td><td>I've ordered carry out from here probably a dozen times and they may have gotten my order right twice; and then whenever I confront them about it they are pretty rude back.\n",
       "\n",
       "They've gotten so cost conscious that they limit everything they give you. They charge for extra sauce for goodness sake, and a lot of their vegetables are anything but fresh.\n",
       "\n",
       "Food is ok but service and the staff cast a really dark shadow on this place.</td></tr><tr><td>1</td><td>This PPP sucks!!!! Placed on hold 15 mins (the drive) to order a carry out pizza. When arrived establishment was empty for these employees to simply not be able to place phone orders. Either hire more employees or hire someone with better customer service skills. Shame.</td></tr><tr><td>1</td><td>The only reason I'm giving one star is because I can't give zero stars. Service was slow. The bartenders are full of testosterone and like to use it to bully their customers. Never have I felt more disrespected as a customer\\/consumer. At this location the customer definitely does not come first.</td></tr><tr><td>1</td><td>I like guys. But when you say you're delivery time is 1.5 hours (ridiculous) and you don't deliver it for 3 hours. That's absolutely unacceptable. Won't be ordering from here again.</td></tr><tr><td>1</td><td>This restaurant has become so bad that I downloaded this app &amp; created an account just so I could write a review. First the service was so bad that I had to go to the waiters station TWICE to refill my drink and my booth was only 5 feet from the station. Second the food quality is horrible. Most items were not labelled correctly so they couldn't be identified. There was chicken in the vegetarian eggplant disc, etc \n",
       "\n",
       "I've been going to this buffet since it opened and was called China Star. The food was good for the price point but went downhill about two years ago. When it became BJ's Buffet about a year ago the food took a dramatic downhill plunge and now you couldn't pay me to eat there.</td></tr><tr><td>1</td><td>Came in with friends who raved about this place. Sat down and was horrified by the service. Took over 20 min for waiter to come and take our drink order. Had to ask for bread, and an appetizer. Our drinks and cheese plate arrived 15 min later. The waiter seemed not interested or engaged, he was doing us a favor.  The food came out over salty, cold, and out right inedible. We asked to speak to the manager. He arrived cheerful and quickly became aggressive raising his voice. He informed us he would take care of problem but never returned.\n",
       "\n",
       "We asked for the check(which should have been comped) nope. Paid and will NEVER return. As we were leaving our waiter was laughing at us.  Management, chefs and waitstaff all need a kick in the ass. The place has so much potential, service and food was F quality. This place deserves zero stars.</td></tr><tr><td>1</td><td>As always the food is great. My wife and daughter and her friend all had filet mignon and were happy. I was happy with my bone in rib eye and the Mac &amp; Cheese with truffles was great - BUT \n",
       "The service was very disappointing. It was confused (3 different people serving) and as a result we felt the waiters didn't care about us. Near the end of the meal one waiter asked if we were ready for desert.  My wife said we wanted to finish our wine (2nd bottle). A few minutes later another waiter dropped off a piece of cheese cake that we hadn't ordered.  We all looked at each other - What was going on? Then a few minutes later the leading waiter said it was for our daughter's birthday. That's OK but four people on one piece of cheese cake was not what we were planning on. We were hoping to order crème brulee and I wanted an Irish coffee and the ladies wanted cappuccino of decafs.. Within 3 or 4 minutes another waiter drops off the bill to be paid. What was going on? \n",
       "Well to make a long story short I told the lead waiter it was the first time I have ever been at a steak house that didn't even ask me if I wanted a cup of coffee. He acted as if we were finished, which was not the case and he had no idea because neither he nor anyone else ever asked us if we wanted anything after my wife asked for a few minutes to finish the wine.\n",
       "I will never go back to ANY SMITH &amp; WOLLENSKY again (either personally or for business). What was a really nice evening turned into a very lousy ending as a result of uncoordinated uncaring wait service. \n",
       "Two thumbs down!!</td></tr><tr><td>1</td><td>The food is no longer edible and overpriced. The staff is undeniably rude. After my last visit, I refuse to ever go back.</td></tr><tr><td>1</td><td>One dollar to use a credit card after ordering 9 dollars of food. No other Robertos in Las Vegas charges that. So if you are visiting Las Vegas don't go to this place. Ripping of people.</td></tr><tr><td>1</td><td>Terrible.  Friday night, 1 bartender, 2 girls standing in the coffee area texting. Management is nowhere to be found. Very underwhelming.</td></tr><tr><td>1</td><td>I was there for my wedding dinner with a small group of family and friends. The food was only deserve a three stars and the server was rude that I received multiple complains, my order of ice tea didn't make to me till an hour later. But the worst part was this: Since the server never checked with us regarding when to cut the wedding cake, my husband has to ask him that we want to start the process soon towards the end of the dinner, Then THE SERVER CUTS THE CAKE WITHOUT CONSULT WITH ANYONE, SO WE NEVER GOT TO TAKE A PICTURE WITH OUR WEDDING CAKE!!! And when I ask him \"why didn't you ask before cutting\", he pointed his index finger at my husband and says \"you asked me to cut it, did you not!\", word to word. My husband did not ask them to cut the cake, he asked him to \"start the process\". As a vendor who advertise themselves as a restaurant with extensive experience doing special events, that was very unprofessional,  and almost without comment sense! This is my worst restaurant experience I have ever had. Why did I pay so much money to not get me wedding cake photo, and get finger pointed by their server? I hope to receive an answer from the restaurant's management!</td></tr><tr><td>1</td><td>Worst place ever...I'll never return here again...thought I'd give it a try but what fail...I fear getting food poisoning if I were to come back.</td></tr><tr><td>1</td><td>Very disappointing!! Soon as you order your salad its slapped on the table, before you can eat it your dinner is served.  We had a bottle of wine and before we drank half of it they asked if we want our check.  If I wanted drive thru dining I would have gone to McDonald's</td></tr></table></div>\n",
       "    <br />(rows: 3221418, time: 0.1s, cached, job: job_r0oEiZ6Zh8Iaujv1bqBAjssCjgcX)<br />\n",
       "    <script src=\"/static/components/requirejs/require.js\"></script>\n",
       "    <script>\n",
       "      require.config({\n",
       "        paths: {\n",
       "          base: '/static/base',\n",
       "          d3: '//cdnjs.cloudflare.com/ajax/libs/d3/3.4.13/d3',\n",
       "          plotly: 'https://cdn.plot.ly/plotly-1.5.1.min.js?noext',\n",
       "          jquery: '//ajax.googleapis.com/ajax/libs/jquery/2.0.0/jquery.min'\n",
       "        },\n",
       "        map: {\n",
       "          '*': {\n",
       "            datalab: 'nbextensions/gcpdatalab'\n",
       "          }\n",
       "        },\n",
       "        shim: {\n",
       "          plotly: {\n",
       "            deps: ['d3', 'jquery'],\n",
       "            exports: 'plotly'\n",
       "          }\n",
       "        }\n",
       "      });\n",
       "\n",
       "      require(['datalab/charting', 'datalab/element!1_156684809426', 'base/js/events',\n",
       "          'datalab/style!/nbextensions/gcpdatalab/charting.css'],\n",
       "        function(charts, dom, events) {\n",
       "          charts.render('gcharts', dom, events, 'paged_table', [], {\"rows\": [{\"c\": [{\"v\": 1}, {\"v\": \"What a terrible experience and we didn't even get into the restaurant!\\n\\nI stopped to eat at Hooters with 3 friends after a concert last night. We had to wait in line for ab 20 minutes even though there were plenty of tables that appeared empty. A group of young men came by the entrance as we were waiting in line and appeared very drunk, were rowdy and at one point one of the young men pulled his pants down while one of his friends extinguished a cigarette in his buttocks. A few minutes later the same thing happened. The young men then got in line behind us for a few minutes, disappeared from said line and then appeared at the front of the line and were escorted right into the restaurant. \\n\\nMany individuals in the line were upset. An older man was talking to the manager and the manager did nothing to apologize to anyone for the ordeal and he did it with a smirk on his face. \\n\\nWhat a terrible display of customer service. It's no wonder the casino wasn't that full...if that type of service runs through the whole establishment.\"}]}, {\"c\": [{\"v\": 1}, {\"v\": \"This is that worst place to eat ...coffee lid was covered in dust and washroom was not cleaned for Days! Do not eat at here \\n\\nOne star is still to much \\n\\nGo across the street for better and cleaner service aka pho Linh\"}]}, {\"c\": [{\"v\": 1}, {\"v\": \"My friend and I came here because of the grand opening BOGO. \\n\\nThe interior was nice and comfortable. However, the food and service was not great. We came at 10:30pm when this place closes at midnight. We ordered our first round which came pretty quickly considering the restaurant wasn't full and busy. The sushi was ok but most of the nigiri was not fresh especially the squid. I took a bite and had to spit it because it was mushy and it smelled foul. \\n\\nSecond round came and apparently it's already last call at 11:00pm so we were rushed to order everything at once.  Our second round most of the orders were incorrect such as my yellowtail hand roll came out as albacore and then suddenly we had edamame when we didn't write it on the paper. The funny thing is when you turn in the paper they sit in front of you and review what you ordered and they still get it wrong. No refills on our tea from 3 different people and when we did get a refill a busser brought us one cup of tea leaving my friends cup empty. When we asked to get a refill the manager came back and said they had shut off their tea machine and asked if water was ok...what other options do we have? They charged us $2 per tea and they think because they're closing up it's ok. They didn't even remove one tea charge from the bill for that. The worst part? My friend and I got pretty sick from eating here afterwards. Let's just say we are both dehydrated as a result of this. I would not come back here even if they had another BOGO.\"}]}, {\"c\": [{\"v\": 1}, {\"v\": \"The food was just meh. We had Pad Thai. However there was no tofu, and we thought that they didn't make it with authentic noodles. Plus the chicken tasted like BBQ chicken and there were very little peanuts. None of the ingredients were really correct. \\n\\nThe service was quite slow. I.e. We had to get up to ask for more water. And the server slammed down our plates, without taking the appetizer plates first. To top it off, the table was sticky. :(\"}]}, {\"c\": [{\"v\": 1}, {\"v\": \"We used to go to this Chili's a lot because it's right in our neighborhood.  The service and food used to be pretty good.  For the last six months or so, the service has been terrible.  Last night, we went in for the last time.  We sat at a table for 15 minutes and were never even acknowledged by any staff person, so we got up and left.  Actually, no one even noticed that we left either!  That's pretty bad!  This place will get no more of my business!\"}]}, {\"c\": [{\"v\": 1}, {\"v\": \"Way overpriced and everything was salty. My $20 Bloody Mary wasn't worth $5. My husbands $23 tuna tartar was 4 chips with a bite of just ok tuna on each.\"}]}, {\"c\": [{\"v\": 1}, {\"v\": \"Food wasn't that great, cheese had no flavor at all. The consistency was more of water than cheese. They charged me another item and then it took about half an hour to finally get my money back for that item. Then one of the girls friend\\\\/bf decides to just cut to the front of the line and in front of me and starts ordering his food and gets served. And the same girl goes back to sitting with him when there's a huge line. Why is she even working there?\"}]}, {\"c\": [{\"v\": 1}, {\"v\": \"Screwed up my order twice. When I pointed out the second screw up, they just sent me packing. Won't be back.\"}]}, {\"c\": [{\"v\": 1}, {\"v\": \"I would compare the service in this restaurant to the service in a fast food restaurant.  The waitress was more interested for a group of us to hurry up and finish our food and leave.  No consideration was given to the fact that we were a group of friends having brunch and wanting to have a conversation between eating.  \\n\\nIf spending more than 25 minutes in a restaurant eating and socializing in a is a norm for you - think twice about eating here.  Your conversation will be interrupted by the waitress who wants to remove your dishes while you are still eating and there is still food on everyones plates.  Certainly would not recommend.\"}]}, {\"c\": [{\"v\": 1}, {\"v\": \"Call me a contrarian, but I just don't get why this place has such good reviews.  I'm a New Yorker by birth and upbringing, and many would agree that New York has *the* best pizza.  But pizza came to the U.S. via Naples.  Settebello's explanation of why their pizza is small, soggy, and salty doesn't add up.\\n\\nWe got there just before the late HH was about to end, so we ordered a wine and beer.  Six bucks for a draft beer pint is not my idea of happy hour pricing, unless maybe you're on the Strip.  But we weren't.\\n\\nThe small HH menu listed individual pizzette for $5 each.  We asked our waiter if we'd get more if we ordered the regular pizza off the regular menu.  \\\"Definitely,\\\" he said.  So we did, assuming that it would be a normal pizza and we'd have leftovers.  I love leftovers.  Until we were presented with what usually passes for happy hour-sized pizza at other places.  And then watched as a man dining near us got his individual pizza, and realized we'd been had.  Two of those would have given us as much, or more than the one we got.  The waiter's response was that he guessed he'd made a bad call.  Yeah, real bad. I can't even remember the last time we didn't tip a waiter.\\n\\nAnd that was before we each took a tiny slice of the drooping, sloppy \\\"big\\\" pie.  Salty.  Flavorless.  Four bites and it was gone.\\n\\nThe manager admitted that the Neapolitan style wasn't to everyone's taste, and offered to get us something else.  We declined, and simply finished our drinks and went down the street to Khoury's.  Now that was worth the four stars I'll be giving it. And next time we want pizza, we won't be going back to Settebello.  So utterly disappointing.\"}]}, {\"c\": [{\"v\": 1}, {\"v\": \"Not the best enchiladas or burrito I have tasted in my 50 years on this earth.  Better Mexican food can be had in Salt Lake City!  The chicken in the enchiladas was dry and cubed which to me means frozen and cheap!  For $10, the enchiladas is not worth it.\"}]}, {\"c\": [{\"v\": 1}, {\"v\": \"Malheureusement, leur politique d'entreprise laisse \\u00e0 d\\u00e9sirer. Nous \\u00e9tions dix \\u00e0 manger et boire de la bi\\u00e8re et quand notre amie est arriv\\u00e9e plus tard en soir\\u00e9e et qu'elle a demander un verre d'eau, le serveur et \\u00e9galement de g\\u00e9rant d'\\u00e9tablissement ont refus\\u00e9 de lui donner de l'eau. Ils avaient comme raisonnement que le client doit prendre soit de l'alcool ou bien manger pour obtenir un verre d'eau. Horrible g\\u00e9rance et ce n'est pas une place recommand\\u00e9e pour ceux et celles qui d\\u00e9sirent \\u00eatre conducteur d\\u00e9sign\\u00e9. Probablement qu'ils devraient revoir les valeurs humaines.\"}]}, {\"c\": [{\"v\": 1}, {\"v\": \"I've ordered carry out from here probably a dozen times and they may have gotten my order right twice; and then whenever I confront them about it they are pretty rude back.\\n\\nThey've gotten so cost conscious that they limit everything they give you. They charge for extra sauce for goodness sake, and a lot of their vegetables are anything but fresh.\\n\\nFood is ok but service and the staff cast a really dark shadow on this place.\"}]}, {\"c\": [{\"v\": 1}, {\"v\": \"This PPP sucks!!!! Placed on hold 15 mins (the drive) to order a carry out pizza. When arrived establishment was empty for these employees to simply not be able to place phone orders. Either hire more employees or hire someone with better customer service skills. Shame.\"}]}, {\"c\": [{\"v\": 1}, {\"v\": \"The only reason I'm giving one star is because I can't give zero stars. Service was slow. The bartenders are full of testosterone and like to use it to bully their customers. Never have I felt more disrespected as a customer\\\\/consumer. At this location the customer definitely does not come first.\"}]}, {\"c\": [{\"v\": 1}, {\"v\": \"I like guys. But when you say you're delivery time is 1.5 hours (ridiculous) and you don't deliver it for 3 hours. That's absolutely unacceptable. Won't be ordering from here again.\"}]}, {\"c\": [{\"v\": 1}, {\"v\": \"This restaurant has become so bad that I downloaded this app & created an account just so I could write a review. First the service was so bad that I had to go to the waiters station TWICE to refill my drink and my booth was only 5 feet from the station. Second the food quality is horrible. Most items were not labelled correctly so they couldn't be identified. There was chicken in the vegetarian eggplant disc, etc \\n\\nI've been going to this buffet since it opened and was called China Star. The food was good for the price point but went downhill about two years ago. When it became BJ's Buffet about a year ago the food took a dramatic downhill plunge and now you couldn't pay me to eat there.\"}]}, {\"c\": [{\"v\": 1}, {\"v\": \"Came in with friends who raved about this place. Sat down and was horrified by the service. Took over 20 min for waiter to come and take our drink order. Had to ask for bread, and an appetizer. Our drinks and cheese plate arrived 15 min later. The waiter seemed not interested or engaged, he was doing us a favor.  The food came out over salty, cold, and out right inedible. We asked to speak to the manager. He arrived cheerful and quickly became aggressive raising his voice. He informed us he would take care of problem but never returned.\\n\\nWe asked for the check(which should have been comped) nope. Paid and will NEVER return. As we were leaving our waiter was laughing at us.  Management, chefs and waitstaff all need a kick in the ass. The place has so much potential, service and food was F quality. This place deserves zero stars.\"}]}, {\"c\": [{\"v\": 1}, {\"v\": \"As always the food is great. My wife and daughter and her friend all had filet mignon and were happy. I was happy with my bone in rib eye and the Mac & Cheese with truffles was great - BUT \\nThe service was very disappointing. It was confused (3 different people serving) and as a result we felt the waiters didn't care about us. Near the end of the meal one waiter asked if we were ready for desert.  My wife said we wanted to finish our wine (2nd bottle). A few minutes later another waiter dropped off a piece of cheese cake that we hadn't ordered.  We all looked at each other - What was going on? Then a few minutes later the leading waiter said it was for our daughter's birthday. That's OK but four people on one piece of cheese cake was not what we were planning on. We were hoping to order cr\\u00e8me brulee and I wanted an Irish coffee and the ladies wanted cappuccino of decafs.. Within 3 or 4 minutes another waiter drops off the bill to be paid. What was going on? \\nWell to make a long story short I told the lead waiter it was the first time I have ever been at a steak house that didn't even ask me if I wanted a cup of coffee. He acted as if we were finished, which was not the case and he had no idea because neither he nor anyone else ever asked us if we wanted anything after my wife asked for a few minutes to finish the wine.\\nI will never go back to ANY SMITH & WOLLENSKY again (either personally or for business). What was a really nice evening turned into a very lousy ending as a result of uncoordinated uncaring wait service. \\nTwo thumbs down!!\"}]}, {\"c\": [{\"v\": 1}, {\"v\": \"The food is no longer edible and overpriced. The staff is undeniably rude. After my last visit, I refuse to ever go back.\"}]}, {\"c\": [{\"v\": 1}, {\"v\": \"One dollar to use a credit card after ordering 9 dollars of food. No other Robertos in Las Vegas charges that. So if you are visiting Las Vegas don't go to this place. Ripping of people.\"}]}, {\"c\": [{\"v\": 1}, {\"v\": \"Terrible.  Friday night, 1 bartender, 2 girls standing in the coffee area texting. Management is nowhere to be found. Very underwhelming.\"}]}, {\"c\": [{\"v\": 1}, {\"v\": \"I was there for my wedding dinner with a small group of family and friends. The food was only deserve a three stars and the server was rude that I received multiple complains, my order of ice tea didn't make to me till an hour later. But the worst part was this: Since the server never checked with us regarding when to cut the wedding cake, my husband has to ask him that we want to start the process soon towards the end of the dinner, Then THE SERVER CUTS THE CAKE WITHOUT CONSULT WITH ANYONE, SO WE NEVER GOT TO TAKE A PICTURE WITH OUR WEDDING CAKE!!! And when I ask him \\\"why didn't you ask before cutting\\\", he pointed his index finger at my husband and says \\\"you asked me to cut it, did you not!\\\", word to word. My husband did not ask them to cut the cake, he asked him to \\\"start the process\\\". As a vendor who advertise themselves as a restaurant with extensive experience doing special events, that was very unprofessional,  and almost without comment sense! This is my worst restaurant experience I have ever had. Why did I pay so much money to not get me wedding cake photo, and get finger pointed by their server? I hope to receive an answer from the restaurant's management!\"}]}, {\"c\": [{\"v\": 1}, {\"v\": \"Worst place ever...I'll never return here again...thought I'd give it a try but what fail...I fear getting food poisoning if I were to come back.\"}]}, {\"c\": [{\"v\": 1}, {\"v\": \"Very disappointing!! Soon as you order your salad its slapped on the table, before you can eat it your dinner is served.  We had a bottle of wine and before we drank half of it they asked if we want our check.  If I wanted drive thru dining I would have gone to McDonald's\"}]}], \"cols\": [{\"type\": \"number\", \"id\": \"stars\", \"label\": \"stars\"}, {\"type\": \"string\", \"id\": \"text\", \"label\": \"text\"}]},\n",
       "            {\n",
       "              pageSize: 25,\n",
       "              cssClassNames:  {\n",
       "                tableRow: 'gchart-table-row',\n",
       "                headerRow: 'gchart-table-headerrow',\n",
       "                oddTableRow: 'gchart-table-oddrow',\n",
       "                selectedTableRow: 'gchart-table-selectedrow',\n",
       "                hoverTableRow: 'gchart-table-hoverrow',\n",
       "                tableCell: 'gchart-table-cell',\n",
       "                headerCell: 'gchart-table-headercell',\n",
       "                rowNumberCell: 'gchart-table-rownumcell'\n",
       "              }\n",
       "            },\n",
       "            {source_index: 0, fields: 'stars,text'},\n",
       "            0,\n",
       "            3221418);\n",
       "        }\n",
       "      );\n",
       "    </script>\n",
       "  "
      ],
      "text/plain": [
       "QueryResultsTable job_r0oEiZ6Zh8Iaujv1bqBAjssCjgcX"
      ]
     },
     "execution_count": 1,
     "metadata": {},
     "output_type": "execute_result"
    }
   ],
   "source": [
    "%%bq query\n",
    "SELECT r.stars, r.text\n",
    "FROM `team-8-bs-770-b.Yelp.Yelp_reviews` as r\n",
    "inner join `team-8-bs-770-b.Yelp.Yelp_business` as b \n",
    "using (business_id)\n",
    "where b.categories LIKE ('%Restaurants%')"
   ]
  },
  {
   "cell_type": "markdown",
   "metadata": {},
   "source": [
    "We splitted the reviews by separating each of them where there was a “space” between the words of each review."
   ]
  },
  {
   "cell_type": "code",
   "execution_count": 2,
   "metadata": {},
   "outputs": [
    {
     "data": {
      "text/html": [
       "\n",
       "    <div class=\"bqtv\" id=\"2_156684813649\"><table><tr><th>stars</th><th>words</th></tr><tr><td>3</td><td>['A', 'very', 'convenient', 'location', 'situated', 'just', 'on', 'the', 'north-east', 'corner', 'of', 'Yonge', '&', 'Bloor.', 'This', 'nice', 'little', 'boutique', 'restaurant', 'is', 'quite', 'visible', 'thanks', 'to', 'a', 'standing', 'sign', 'that', 'says', '\"Ichiriki', 'sushi', 'restaurant\".\\n\\nThe', 'service', 'in', 'this', 'restaurant', 'is', 'quick.', 'I', 'ordered', 'a', 'salmon', 'and', 'sashimi', 'dish,', 'with', 'steam', 'rice', 'for', 'an', 'extra', 'dollar.', 'The', 'portions', 'are', 'surprisingly', 'huge.', 'On', 'my', 'dish,', 'there', 'are', 'three', 'pieces', 'of', 'sashimi,', 'three', 'pieces', 'of', 'sushi', 'roll,', 'garden', 'salad', 'on', 'the', 'side,', 'two', 'large', 'pieces', 'of', 'salmon', 'and', 'a', 'small', 'dish', 'of', 'tuna', 'salad.', 'The', 'tuna', 'salad', 'mini-dish', 'was', 'refreshing', 'and', 'tasty.', 'The', 'sushi', 'has', 'wasabi', 'inside,', 'which', 'is', 'prepared', 'the', 'correct', 'authentic', 'way.', '\\n\\nThe', 'setting', 'of', 'the', 'restaurant', 'is', 'suitable', 'for', 'a', 'jazz', 'band,', 'as', 'there', 'are', 'many', 'jazz', 'photos', 'posted', 'on', 'the', 'wall.', 'I', 'was', 'told', 'by', 'the', 'waitress', 'that', 'jazz', 'nights', 'take', 'place', 'in', 'the', 'restaurant', 'on', 'the', 'weekends.', 'I', 'would', 'raise', 'an', 'extra', 'star', 'rating', 'if', 'I', 'come', 'here', 'one', 'night', 'for', 'their', 'jazz', 'performance.']</td></tr><tr><td>5</td><td>['Great', 'breakfast', 'spot.', 'Has', 'free', 'parking;', 'we', 'got', 'here', 'at', '8:45', 'am', 'on', 'a', 'Saturday,', 'beautiful', 'Saturday,', 'which', 'is', 'an', 'important', 'detail', 'when', 'venturing', 'to', 'the', 'Strip', 'District,', 'we', 'had', 'four', 'in', 'our', 'group', 'and', 'sat', 'immediately.', 'Service', 'was', 'friendly', 'and', 'fast.', 'Atmosphere', 'is', 'loud,', 'which', 'I', 'personally', 'really', 'like,', 'and', 'it', 'was', 'really', 'clean.', 'Chocolate', 'chip', 'pancakes', 'are', 'on', 'the', 'menu,', 'a', 'plus', 'if', 'you', 'have', 'lucky', 'kids.', 'I', 'do.', 'Coffee', 'was', 'smooth', 'and', 'the', 'bread', 'used', 'for', 'my', 'breakfast', 'sandwich', 'was', 'so', 'good', 'and', 'fresh.', 'Booth,', 'table,', '&', 'bar', 'seating.', \"I've\", 'been', 'looking', 'for', 'a', 'really', 'great', 'breakfast', 'place', 'to', 'visit', 'on', 'the', 'regular', 'and', 'Kelly', \"O's\", 'will', 'be', 'at', 'the', 'top', 'of', 'my', 'list.', 'There', 'is', 'really', 'nothing', 'negative', 'to', 'say', 'about', 'our', 'experience.']</td></tr><tr><td>5</td><td>[\"I've\", 'gone', 'here', '5', 'times', 'and', 'loved', 'this', 'place', 'each', 'time', \"I've\", 'gone.', 'They', 'have', 'really', 'good', 'smoothies', 'and', 'their', 'sandwiches', 'are', 'huge.', 'And', 'I', 'think', \"they're\", 'starting', 'to', 'sell', 'sushi', 'now', 'so', \"that's\", 'a', 'plus']</td></tr><tr><td>5</td><td>[\"Mastro's\", 'was', 'recommended', 'by', 'a', 'co-worker', 'who', 'went', 'to', 'one', 'of', 'the', 'locations', 'in', 'CA', 'and', 'absolutely', 'loved', 'it.', 'I', 'made', 'reservations', 'for', 'a', 'group', 'of', 'friends', 'and', 'I,', 'and', 'despite', 'some', 'initial', 'resistance', 'from', 'my', 'fellow', 'Yelper', 'Lauren', 'M.,', 'we', 'all', 'had', 'a', 'fabulous', 'time', 'and', 'were', 'more', 'than', 'happy', 'with', 'our', 'decision', 'to', 'come', 'here!\\n\\nOur', 'server,', 'Lionel,', 'was', 'amazing', 'the', 'whole', 'evening.', 'He', 'was', 'friendly,', 'helpful,', 'and', 'attentive.', 'He', 'recommended', 'we', 'get', 'a', 'customized', 'seafood', 'tower,', 'and', 'everyone', 'in', 'the', 'group', 'was', 'very', 'impressed.\\n\\nWe', 'were', 'also', 'impressed', 'with', 'our', 'meals.', 'I', 'got', 'the', 'bone-in', 'filet,', 'and', 'two', 'of', 'my', 'friends', 'split', 'the', 'tomahawk', 'special.', 'My', 'other', 'friends', 'got', 'fish.', 'My', 'filet', 'melted', 'in', 'my', 'mouth', 'and', 'was', 'cooked', 'perfectly.', 'I', \"don't\", 'typically', 'get', 'filet', 'when', 'I', 'go', 'to', 'a', 'steakhouse,', 'but', 'I', 'was', 'so', 'happy', 'with', 'my', 'meal!', '\\n\\nWe', 'also', 'got', 'the', 'very', 'popular', 'lobster', 'mashed', 'potatoes', 'for', 'a', 'side,', 'and', 'it', 'was', 'delicious.', 'Lionel', 'brought', 'us', 'out', 'some', 'of', 'the', 'warm', 'butter', 'cake', 'for', 'dessert,', 'and', 'it', 'was', 'amazing!', 'You', 'could', 'definitely', 'smell', 'the', 'butter', 'as', 'soon', 'as', 'he', 'put', 'it', 'down', 'on', 'the', 'table.', 'You', 'must', 'try', 'it', 'if', 'you', 'come', 'to', \"Mastro's!\\n\\nThe\", 'setting', 'is', 'a', 'little', 'weird,', 'as', 'you', 'are', 'essentially', 'in', 'the', 'middle', 'of', 'a', 'mall.', 'Honestly,', 'the', 'food', 'was', 'so', 'good', 'that', 'I', 'could', 'have', 'been', 'sitting', 'literally', 'anywhere', 'and', 'enjoyed', 'this', 'meal!']</td></tr><tr><td>2</td><td>['Dropped', 'in', 'on', 'a', 'beautiful', 'Saturday', 'afternoon', 'for', 'a', 'feed', 'of', 'fish', 'and', 'chips.', 'Being', 'an', 'English', 'pub', 'I', 'thought', 'it', 'should', 'be', 'good,', 'which', 'was', 'confirmed', 'by', 'our', '(very', 'nice)', 'serve.', 'I', 'thought,', 'it', 'better', 'be', 'good', 'for', '$17.99!!', '\\n\\nVery', 'disappointing.', 'The', 'fish', 'was', 'like', 'a', 'halibut', 'steak', 'instead', 'of', 'haddock', 'or', 'cod.', 'It', 'was', 'dense', 'like', 'meat,', 'and', 'not', 'flaky', 'because', 'it', 'was', 'overcooked.', 'The', 'beer', 'batter', 'was', 'ok', 'and', 'crispy', 'enough', 'but', 'the', 'fish', 'inside', 'was', 'tough', 'and', 'not', 'very', 'hot.', 'Chips', 'were', 'also', 'not', 'very', 'crispy', 'or', 'hot', '--', 'not', 'sure', 'if', 'they', 'were', 'fresh.\\n\\nTo', 'the', \"server's\", 'credit,', 'she', 'first', 'offered', 'something', 'else', 'and', 'then', 'came', 'back', 'to', 'let', 'me', 'know', 'she', 'took', 'the', 'fish', 'and', 'chips', 'off', 'our', 'bill.', 'So', 'that', 'was', 'good.', 'Maybe', 'it', 'was', 'just', 'an', 'off', 'day', 'but', 'I', \"won't\", 'be', 'back', 'to', 'try', 'it', 'again.\\n\\nP.S.', 'A', 'little', 'cup', 'of', 'coffee', 'was', '$2.50!', 'Sigh.']</td></tr><tr><td>4</td><td>[\"Rudy's\", 'has', 'earned', \"it's\", 'way', 'to', 'our', '\"go', 'to\"', 'local', 'italian', 'joint.', '', 'We', 'love', 'the', 'owner,', 'the', 'service', 'is', 'always', 'great,', 'and', 'the', 'food', 'is', 'on', 'point.', '', 'In', 'fact,', 'they', 'will', 'customize', 'their', 'menu', 'for', 'you', 'easily', 'when', 'asked.', '', 'The', 'only', 'reason', 'I', \"didn't\", 'give', 'it', '5', 'stars', 'is', 'that', 'the', 'paint', 'job', 'on', 'the', 'inside', 'is', 'a', 'bit', 'much', 'and', 'parking', 'can', 'be', 'a', 'bit', 'of', 'a', 'pain.', '', 'However,', 'when', 'my', 'wife', 'and', 'I', 'are', 'thinking', 'local', 'italian,', \"we're\", 'thinking', \"Rudy's.\", '', 'I', 'highly', 'recommend', 'this', 'place!']</td></tr><tr><td>4</td><td>['We', 'missed', 'HH', 'by', '15', 'mins,', 'which', 'was', 'sad.', 'BUT', 'I', 'had', 'a', 'coupon', 'from', 'Restaurant.com', 'so', 'it', 'was', 'ok', 'either', 'way.\\n\\nIf', 'you', 'check', 'in', 'on', 'Yelp', 'you', 'get', 'a', 'free', 'glass', 'of', 'Sangria', ':)', 'Place', 'is', 'super', 'cute', '&', \"I'm\", 'totally', 'going', 'back', 'again.', \"It's\", 'in', 'the', 'same', 'strip', 'mall', 'as', 'Off', 'the', 'Strip,', 'plenty', 'of', 'parking,', 'and', 'apparently', 'has', 'a', 'swinging', 'HH', 'from', '4-7', 'with', '50%', 'off', 'entrees.\\n\\nThey', 'also', 'have', 'many', \"TV's\", 'which', 'made', 'us', 'happy!', '\\n\\nI', 'posted', 'some', 'pix', 'of', 'the', 'food,', '', \"here's\", 'what', 'we', 'got:\\n\\n1)', 'bacon', 'wrapped', 'dates,', 'pretty', 'good,', 'bacon', 'was', 'a', 'little', 'dry\\n2)', 'almond', '&', 'panko', 'deep', 'fried', 'goat', 'cheese', 'with', 'a', 'balsamic', 'reduction', '-Yes', 'please,', 'more\\n3)', 'lots', 'of', 'bread', '&', 'hummus-hummus', 'needed', 'more', 'garlic', 'in', 'my', 'opinion', 'but', 'I', 'heart', 'carbs\\n4)', 'Serrano', 'wrapped', 'cheese,', 'black', 'olives,', 'little', 'pickles', '-how', 'fun', 'this', 'plate', 'was\\n5)', 'crowd', 'pleaser', '&', 'shockingly', 'good-', 'escargot', 'with', 'saffron', 'in', 'a', 'tomato', 'sauce.', 'Not', 'what', 'I', 'expected', 'at', 'all', 'but', 'really', 'really', 'good', '[do', 'it!]']</td></tr><tr><td>1</td><td>['My', 'wife', 'and', 'I', 'had', 'a', 'HORRIBLE', 'first', 'experience', 'here', 'and', 'will', 'not', 'be', 'back.', 'When', 'we', 'arrived,', 'we', 'sat', 'towards', 'the', 'front', 'of', 'the', 'bar', 'area', 'because', 'they', 'said', 'that', 'a', 'group', 'reservation', 'will', 'be', 'taking', 'place', 'in', 'the', 'back', 'of', 'the', 'bar', 'area.', 'The', 'waitor', 'took', 'our', 'appetizer', 'order', 'that', 'took', 'several', 'minutes', 'to', 'come', 'out', 'for', 'such', 'a', 'small', 'plate.', 'Then', 'we', 'never', 'saw', 'him', 'again.', 'We', 'had', 'to', 'stop', 'another', 'waiter', 'to', 'ask', 'for', 'dinner', 'menus...never', 'came', 'back.', 'And', 'then', 'a', 'lady', 'came', 'by', 'and', 'asked', 'us', 'if', 'we', 'were', 'doing', 'ok', 'and', 'we', 'said', 'absolutely', 'not!', 'We', 'asked', 'for', 'our', 'check', 'and', 'left', 'to', 'get', 'dinner', 'at', 'another', 'restaurant.', 'My', 'wife', 'was', 'so', 'upset', 'that', 'she', 'called', 'them', 'back', 'the', 'next', 'day', 'to', 'speak', 'to', 'management', 'and', 'tell', 'them', 'of', 'our', 'horrible', 'experience.', 'Service', 'was', 'so', 'bad', 'that', 'they', 'asked', 'if', 'there', 'was', 'something', 'they', 'could', 'offer', 'us', 'to', 'make', 'us', 'want', 'to', 'come', 'back', 'but', 'it', 'was', 'so', 'bad', 'that', 'we', 'declined.', 'FYI,', 'my', 'wife', 'was', 'a', 'waitress', 'for', 'years', 'and', 'has', 'worked', 'in', 'the', 'retail', 'industry', 'for', 'ages', 'now', 'and', 'knows', 'the', 'importance', 'of', 'good', '', 'customer', 'service.', 'This', 'was', 'absolutely', 'not', 'it!!!']</td></tr><tr><td>5</td><td>['Wow,', 'I', 'am', 'sad', 'I', \"didn't\", 'find', \"Amelie's\", 'sooner.', 'After', 'a', 'long', 'day', 'in', 'Charlotte', 'I', 'was', 'looking', 'for', 'a', 'place', 'to', 'grab', 'some', 'coffee', 'and', 'a', 'dessert', 'and', 'there', 'was', \"Amelie's.\", 'As', 'soon', 'as', 'we', 'stepped', 'inside', 'the', 'smell', 'of', 'fresh', 'baked', 'pastry', 'welcomed', 'us.', 'Once', 'I', 'saw', 'the', 'fruit', 'tart', 'I', 'knew', 'what', 'I', 'was', 'going', 'to', 'order.', 'My', 'husband', 'choose', 'the', 'chocolate', 'croissant.', 'I', 'was', 'pleasantly', 'surprised', 'when', 'they', 'informed', 'us', 'that', 'they', 'serve', 'french', 'press', 'coffee.', 'The', 'interior', 'is', 'decorated', 'in', 'a', 'funky', 'and', 'eclectic', 'style', 'which', 'is', 'n', 'stark', 'contrast', 'to', 'the', 'refined', 'pastry', 'they', 'serve.', '\\n\\nThe', 'crust', 'on', 'the', 'tart', 'was', 'delicate', 'and', 'buttery', 'topped', 'with', 'sweetened', 'cream', 'and', 'sliced', 'fresh', 'ripe', 'fruit.', 'There', 'was', 'a', 'sweet', 'sticky', 'glaze', 'over', 'the', 'top.', 'YUM!', 'The', 'chocolate', 'croissant', 'was', 'flaky', 'and', 'buttery', 'with', 'just', 'enough', 'chocolate', 'in', 'every', 'bite.', 'I', 'will', 'be', 'back', 'again', 'and', 'again.']</td></tr><tr><td>1</td><td>['Worst', 'tenders', 'ever.', 'No', 'flavor.', 'They', 'forgot', 'to', 'give', 'me', 'my', 'ranch', 'sauce', 'with', 'my', 'order.', 'At', 'least', 'that', 'would', 'of', 'helped', 'with', 'the', 'taste.']</td></tr><tr><td>5</td><td>['My', 'family', 'insists', 'on', 'this', 'bread', 'for', 'sandwiches,', 'toast,', 'etc.', 'at', 'home.', 'The', 'sourdough', 'is', 'delicious', 'toasted,', 'but', 'we', 'also', 'love', 'the', 'Dakota', 'and', '9', 'grain.', 'I', 'love', 'that', 'it', 'is', 'made', 'with', 'whole', 'grains.', '\\n\\nWe', 'love', 'getting', 'sandwiches', 'made', 'at', 'the', 'bakery', 'as', 'well.', 'I', 'prefer', 'the', 'Chicken', 'Berry', 'Pecan,', 'but', 'I', 'also', 'love', 'the', 'grilled', 'cheese', 'with', 'soup.', 'They', 'put', 'a', 'garlic', 'spread', 'on', 'it', 'that', 'puts', 'it', 'over', 'the', 'top.', '', 'My', 'two', 'other', 'favorites', 'are', 'the', 'Banana', 'Walnut', 'Bread', 'and', 'the', 'sugar', 'cookies.', 'Oh', 'my', 'goodness,', 'the', 'sugar', 'cookies!', '', 'I', 'love', 'them', 'sooo', 'much.', '\\n\\nThe', 'staff', 'is', 'very', 'friendly', 'and', 'willing', 'to', 'help.', \"I've\", 'never', 'had', 'a', 'bad', 'experience', 'there.', \"I'll\", 'definitely', 'be', 'back.']</td></tr><tr><td>5</td><td>['This', 'place', 'has', 'some', 'of', 'the', 'best', 'food', \"I've\", 'eaten.', 'Even', 'the', 'tortilla', 'was', 'superb!', 'Any', 'downside', 'with', 'limited', 'parking', 'and', 'a', 'slightly', 'cramped', 'dining', 'area', 'are', 'quickly', 'forgotten', 'when', 'you', 'take', 'your', 'first', 'bite.', 'There', 'is', 'a', 'great', 'selection', 'of', 'salsas', 'at', 'their', 'salsa', 'bar,', 'ranging', 'from', 'mild', 'and', 'tasty', 'to', 'hot', 'hot', 'hot', 'and', 'tasty.', 'Staff', 'are', 'pros', 'and', 'friendly', 'and', 'will', 'help', 'with', 'the', 'menu', 'if', 'your', 'not', 'sure', 'what', 'to', 'order', 'or', 'if', 'you', 'have', 'any', 'questions.', 'They', 'also', 'seem', 'perfectly', 'willing', 'to', 'make', 'accommodations', 'if', 'you', 'ask', 'for', 'substitutions', 'or', 'additions', 'to', 'your', 'order.', 'This', 'is', 'a', 'definite', 'must', 'try', 'place,', 'cause', \"you'll\", 'love', 'it.']</td></tr><tr><td>5</td><td>['I', 'can', 'go', 'there', 'everyday', 'every', 'night!This', 'is', 'by', 'far', 'my', 'most', 'fav', 'tapas', 'place', 'in', 'Toronto.\\nThe', 'amazing', 'high', 'ratings', 'do', 'live', 'up', 'to', 'its', 'ambiance\\\\/food', 'and', 'service.\\n\\nThe', 'bonus', 'to', 'this', 'place', 'is', 'it', 'opens', 'up', 'as', 'early', 'as', '8', 'in', 'the', 'morning', 'which', 'is', 'rare', 'to', 'find', 'for', 'a', 'place', 'this', 'kind.\\n\\nAmbiance:\\nSo', 'this', 'place', 'is', 'divided', 'in', 'two', 'sections', 'one', 'is', 'the', 'outdoor', 'patio', 'which', 'is', 'amazingly', 'beautiful', 'to', 'sit', 'at', 'during', 'the', 'summer\\\\/spring', 'time', 'and', 'then', 'the', 'historic', 'indoor', 'space', 'which', \"isn't\", 'too', 'big', 'but', 'is', 'just', 'beautifully', 'made', 'with', 'lots', 'of', 'great', 'wood', 'work', 'and', 'wonderful', 'lighting.They', 'are', 'no', 'tables', 'instead', \"there's\", 'a', 'bar', 'too', 'that', 'wraps', 'around', 'the', 'space', 'and', 'a', 'few', 'high', 'top', 'tables', 'with', 'stools,', 'just', 'perfect.\\n\\nFood:\\nOh', 'my', 'goodness', 'I', 'can', 'actually', 'eat', 'here', 'everyday', 'and', 'die', 'a', 'happy', 'women.So', 'this', 'place', 'carries', 'tapas', 'which', 'means', 'tiny', 'plates.I', 'have', 'tried', 'most', 'of', 'their', 'menu', 'items', 'and', 'they', 'all', 'are', 'to', 'die', 'for.I', 'highly', 'recommend', 'the', 'hot', 'octopus', 'which', 'is', 'chunks', 'of', 'hot', 'octopus', 'with', 'herb', 'infused', 'oil', 'and', 'potatoes', 'with', 'a', 'hint', 'of', 'paprika.Its', 'a', 'gorgeous', 'plate.I', 'love', 'their', 'canned', 'selection', 'of', 'which', 'my', 'fav', 'is', 'the', 'mackerel,', 'there', 'are', 'chunks', 'of', 'thick', 'mackerel', 'with', 'oil', 'and', 'lotsa', 'bread.Salmon', 'croissants', '', 'is', 'amongst', 'my', 'favorites', 'too.', 'And', 'when', 'here', 'do', 'not', 'miss', 'on', 'their', 'fabulous', 'desserts', 'they', 'do', 'not', 'have', 'a', 'huge', 'variety', 'but', 'their', 'donuts', 'and', 'cake', 'slices', 'or', 'to', 'die', 'for.', 'The', 'last', 'time', 'I', 'was', 'here', 'I', 'tried', 'their', 'hazelnut', 'old-fashioned', 'doughnut,', 'I', 'highly', 'recommend', 'that.\\n\\nService\\\\/Pricing\\\\/Parking:\\nEvery', 'time', \"I've\", 'been', 'there', 'the', 'service', 'has', 'been', 'top', 'notch', 'the', 'manager', 'and', 'the', 'crew', 'are', 'extremely', 'helpful', 'and', 'the', 'food', 'comes', 'out', 'in', 'a', 'decent', 'time.The', 'bartenders', 'are', 'friendly', 'and', 'give', 'good', 'suggestions', 'on', 'drinks.', 'As', 'far', 'as', 'the', 'pricing', 'goes', 'the', 'tapas', 'are', 'fairly', 'priced', 'and', 'so', 'are', 'the', 'coffees.I', 'feel', 'their', 'drinks', 'are', 'little', 'pricey', 'but', 'are', 'absolutely', 'worth', 'it.', 'There', 'is', 'lots', 'of', 'paid', 'parking', 'outside', 'the', 'restaurant.\\n\\nI', 'absolutely', 'love', 'and', 'adore', 'this', 'place', 'and', \"don't\", 'mind', 'coming', 'here', 'over', 'and', 'over', 'again.', 'This', 'by', 'far', 'is', 'one', 'of', 'my', 'most', 'favorite', 'places', 'to', 'eat', 'in', 'Toronto.']</td></tr><tr><td>3</td><td>['Suprisingly', 'the', 'food', 'is', 'pretty', 'good.', 'The', 'pastor', 'meat', 'taste', 'good', 'n', 'asada', 'is', 'just', 'ok', 'for', 'me.', '$1.50', 'for', 'the', 'small', 'tacos', 'n', '$3', 'for', 'the', 'larger', 'tacos.', 'Its', 'a', 'very', 'small', 'establishment', 'with', '5', 'booths', 'n', '1', 'longer', 'booth', 'facing', 'the', 'cashier.', 'Price', 'is', 'pretty', 'reasonable', 'i', 'guess,', 'they', 'do', 'have', 'a', 'bathroom', 'also', \"didn't\", 'look', 'like', 'it', 'at', 'first.', \"It's\", 'chill,', 'would', 'i', 'come', 'back?', 'Maybe', 'if', 'i', 'were', 'in', 'the', 'area', 'again', 'but', 'i', \"wouldn't\", 'make', 'the', 'drive', 'just', 'to', 'do', 'it.', \"I'll\", 'leave', 'it', 'with', 'that!']</td></tr><tr><td>3</td><td>['Putting', 'a', 'little', '\"oh\"', 'in', 'Ohio.\\n\\nComing', 'from', 'the', 'Loop', '(and', 'I', 'am', 'proud)', 'I', 'was', 'skeptical', 'that', 'Cleveland', 'would', 'have', 'much', 'to', 'offer.', '', 'Though', 'I', 'was', 'offered', 'a', 'free', 'meal', 'at', 'the', 'Harp', 'for', 'some', 'tasteful', '\"Irish-inspired\"', 'fun.\\n\\nAtmosphere:', '', 'Combo', 'of', 'the', 'dingy', 'of', 'a', 'bar,', 'with', 'the', 'seating', 'of', 'a', 'TGIF.', '', 'Its', 'pretty', 'family', 'friendly,', 'but', 'we', 'must', 'have', 'come', 'during', '\"ladies', 'night\"', 'because', 'all', 'the', 'middle', 'aged', 'women', 'were', 'intoxicated', 'and', 'going', 'supersonic.', '', 'Overall,', 'both', '4', 'person', 'tables', 'and', 'group', 'seating', 'are', 'available,', 'though', 'not', 'huge', 'on', 'decor.\\n\\nService:', '', 'Ran', 'sort', 'of', 'slow,', 'but', 'always', 'filled', 'my', 'Coke', 'glass.', '', 'This', 'is', 'not', 'fine', 'dining,', 'but', 'service', 'staff', 'was', 'pleasant', 'and', 'helpful.\\n\\nFood:', '', 'Pretty', 'much', 'the', 'same', 'menu', 'you', 'would', 'get', 'at', 'a', 'TGIF,', 'with', 'pretty', 'standard', 'fare.', '', 'The', 'reason', 'for', 'the', 'generous', '4', 'star', 'was', 'a', 'good', 'selection', 'of', 'appetizers,', 'from', 'Crab', 'Cakes,', 'to', 'Calamari,', 'to', 'Quesadillas', '', 'I', 'had', 'the', 'Chicken', 'pasta,', 'which', 'was', 'nothing', 'special,', 'just', 'good', 'old', 'fashion', 'food.', '', 'I', 'had', 'their', 'Cheesecake,', 'which', 'was', 'a', 'downright', 'disappointment,', 'so', 'any', 'appetizer', 'love', 'has', 'dried', 'up.\\n\\nMommy', 'Factor:', '', 'This', 'is', 'a', 'place', 'I', 'would', 'probably', 'bring', 'the', 'folks.', '', 'Its', 'not', 'a', 'fancy', 'place', 'by', 'any', 'means,', 'but', 'its', 'pretty', 'benign', 'that', 'parents', 'would', 'not', 'mind.', '', 'SInce', 'it', 'still', 'is', '\"bar', 'like\"', 'its', 'not', 'a', 'truly', 'kid', 'friendly', 'place,', 'but', 'there', 'is', 'no', 'reason', 'why', 'they', \"wouldn't\", 'be', 'welcomed.\\n\\nDate', 'Factor:', '', 'I', 'would', 'definitely', 'not', 'use', 'this', 'as', 'a', 'first', 'date,', 'more', 'so', 'because', 'I', 'would', 'afraid', 'of', 'getting', 'Tetanus,', 'but', 'this', 'is', 'not', 'a', 'terrible', 'place', 'to', 'bring', 'an', 'established', 'significant', 'other.', '', '\\n\\nBling:', '', 'Since', 'I', 'was', 'not', 'paying,', 'I', \"didn't\", 'mind', 'the', 'adventure.', '', 'However,', 'appetizers', 'ranged', 'from', '5-8', 'bucks', 'for', 'a', 'sampling', 'for', '4', 'people.', '', 'Entrees', 'ranged', 'from', '10', '-20', 'bucks,', 'with', 'cuts', 'of', 'meat', 'and', 'fish', 'ranging', 'for', 'about', '15', 'bucks.\\n\\nUpshot:', '', 'Overall,', 'decent', 'food,', 'decent', 'portions,', 'and', 'a', 'TGIF', 'vibe', 'which', '', 'which', 'I', 'could', 'definitely', 'see', 'Drew', 'Carey', 'frequenting.']</td></tr><tr><td>5</td><td>['This', 'place', 'is', 'the', 'best!', 'Every', 'time', 'I', 'am', 'in', 'Vegas,', 'I', 'have', 'dinner', 'here', 'at', 'least', 'once', 'if', 'not', 'twice.', '', 'The', 'food', 'is', 'fantastic', 'and', 'the', 'service', 'is', 'amazing.', '', 'Great', 'martinis,', 'wedge', 'salad,', 'awesome', 'side', 'dishes', 'and', 'the', 'Bone', 'in', 'Rib', 'eye', 'is', 'incredible.', '', 'If', 'you', 'have', 'a', 'big', 'appetite', 'and', 'are', 'not', 'afraid', 'of', 'the', '$90', 'cost,', 'the', 'Tomahawk', 'Rib', 'eye', '', 'is', 'well', 'worth', 'it.']</td></tr><tr><td>5</td><td>['The', '#1', 'reason', 'to', 'visit', 'this', 'particular', 'location,', 'is', 'a', 'server', 'named', 'BRENDA.\\n\\nYes,', 'the', 'food', 'is', 'terrific', 'and', 'the', 'prices', 'are', 'certainly', 'reasonable,', 'but', 'if', 'the', 'employees', 'are', 'not', '\"first', 'class,\"', 'the', 'entire', 'dining', 'experience', 'suffers.\\n\\nPlease', \"don't\", 'misunderstand', 'me.', '', 'ALL', 'of', 'the', 'workers', 'here', 'are', 'friendly,', 'polite,', 'cheerful', 'and', 'dedicated', 'to', 'customer', 'satisfaction,', 'but', 'BRENDA', 'will', 'easily', 'exceed', 'all', 'of', 'your', 'expectations,', 'and', 'her', 'professionalism', 'is', 'why', 'I', 'keep', 'coming', 'back.\\n\\nThere', 'is', 'another', 'IHOP', 'location', 'in', 'Las', 'Vegas', 'NV,', 'which', 'I', 'refuse', 'to', 'patronize,', 'due', 'to', 'one', 'very', 'rude', '&', 'impolite', 'employee,', 'so', \"don't\", 'think', 'that', \"I'm\", 'enthusiastic', 'about', 'all', 'of', 'the', 'IHOP', 'locations,', 'because', \"that's\", 'not', 'the', 'case.', '', 'This', 'review', 'is', 'only', 'for', 'this', 'specific', 'place.\\n\\nLastly,', 'the', 'General', 'Manager', '(April)', 'needs', 'to', 'be', 'complimented', 'too,', 'because', 'it', 'is', 'she', 'who', 'oversees', 'the', 'hiring', 'and', 'training', 'of', 'the', 'staff,', 'and', 'they', 'all', 'are', 'an', 'excellent', 'reflection', 'of', 'her', 'instincts', 'regarding', 'people', 'and', 'her', 'overall', 'management', 'abilities.\\n\\nDining', 'here', 'is', 'an', 'every', 'weekend', '\"event\"', 'for', 'me', 'and', 'several', 'of', 'my', 'friends,', 'and', 'it', 'may', 'surprise', 'some', 'to', 'learn', 'that', 'it', 'is', 'a', '28-MILE', 'ROUND', 'TRIP', 'that', 'I', 'happily', 'drive,', 'whenever', 'I', 'want', 'wonderful', 'food', 'and', '\"awesome\"', 'service.']</td></tr><tr><td>5</td><td>['THE', 'FOOD', 'AND', 'SERVICE', 'ARE', 'FANTASTIC!', '', 'We', 'had', 'a', 'server', 'named', 'Preston.', 'I', 'tipped', 'that', 'wonderful', 'young', 'man', 'almost', '50%!', 'and', 'he', 'deserved', 'even', 'more', 'than', 'that!', 'On', 'Saturday', '&', 'Sunday', 'they', 'are', 'very', 'busy.', 'Every', 'table', 'was', 'occupied;', 'however', 'our', 'waiter,', 'Preston,', 'never', 'missed', 'refilling', 'our', 'coffee', 'and', 'water', 'as', 'soon', 'as', 'we', 'drank', 'a', 'little', 'and', 'checked', 'to', 'see', 'if', 'we', 'needed', 'anything.', '\\nBEST', 'COFFEE', 'in', 'town!', '\\nWe', 'went', 'on', 'a', 'Saturday', 'morning', 'and', 'enjoyed', 'it', 'so', 'much,', 'we', 'went', 'back', 'on', 'Sunday!\\nThe', 'prices', \"aren't\", 'the', 'cheapest', 'in', 'town,', 'but', 'no', 'where', 'near', 'as', 'much', 'as', 'one', 'would', 'expect', 'to', 'pay', 'for', 'the', 'quality', 'of', 'the', 'food', 'and', 'service!\\nThe', 'portions', 'are', 'very', 'large!', 'On', 'both', 'visits,', 'my', 'sister', 'and', 'I', 'shared', 'a', 'breakfast', 'and', 'it', 'was', 'definitely', 'enough', 'to', 'satisfy!\\nI', 'would', 'definitely', 'recommend', 'this', 'restaurant', 'to', 'anyone', 'who', 'is', 'looking', 'for', 'great', 'food,', 'great', 'service', 'and', 'great', 'value!']</td></tr><tr><td>5</td><td>['Awesome', 'food...very', 'accommodating!!', \"I'm\", 'new', 'to', 'the', 'area', 'and', 'I', 'felt', 'so', 'welcomed', 'by', 'Christian.', 'He', 'made', 'my', 'favorite', 'little', 'cocktail', 'of', \"Tito's\", 'n', 'sparkling', 'water', 'with', 'a', 'lime.', 'I', \"can't\", 'wait', 'to', 'bring', 'my', 'family', 'and', 'friends', 'here...Awesome', 'place!!']</td></tr><tr><td>4</td><td>['Great', 'food', 'and', 'great', 'atmosphere.', 'Come', 'from', 'a', 'Thai', 'family', 'and', 'this', 'place,', 'considering', 'its', 'hipster', 'location', 'and', 'demographic', 'is', 'surprisingly', 'authentic.', 'Service', 'was', 'a', 'little', 'slow', 'so', 'order', 'everything', 'in', 'one', 'shot.']</td></tr><tr><td>5</td><td>['I', 'only', 'come', 'to', 'Vegas', 'for', 'this', 'place', 'and', 'this', 'location.', '', 'I', 'have', 'not', 'ever', 'been', 'to', 'the', 'other', 'one', 'but', \"don't\", 'want', 'to', 'risk', 'my', 'Shrimp', 'Basket', 'being', 'prepared', 'different...\\n\\nLove', 'this', 'place', 'and', 'our', 'server', 'was', 'Fantastic...I', \"can't\", 'remember', 'her', 'name,', 'but', 'she', 'was', 'a', 'sweety...wrote', 'huge', 'Happy', 'Birthday', 'and', 'Thank', 'You', 'on', 'our', 'bill', 'and', 'circled', 'the', 'gratuity', 'that', 'was', 'charged', 'to', 'us.', '', 'We', 'had', 'NO', 'PROBLEM!!!', 'SHE', 'WAS', 'GREAT!!!']</td></tr><tr><td>4</td><td>['A', 'coworker', 'and', 'I', 'stopped', 'in', 'for', 'a', 'snack', 'and', 'a', 'drink', 'while', 'we', 'brainstormed.', '', 'The', 'server', 'was', 'great', 'and', 'the', 'snacks', '(deviled', 'eggs,', 'skillet', 'cornbready', 'thing)', 'were', 'tasty.', '', 'My', 'only', 'issue', 'was', 'that', 'there', 'were', 'a', 'ton', 'of', 'small', 'flies', 'flying', 'around', 'outside', 'that', 'were', 'getting', 'annoying.', '', 'But', 'hey,', \"it's\", 'summer,', \"it's\", 'Charlotte,', 'these', 'things', 'happen.\\n\\nOverall', '-', '4', 'stars.', '', 'Solid.']</td></tr><tr><td>4</td><td>['Well,', 'they', 'sure', 'are', 'friendly.\\n\\nBut', 'speedy', 'they', 'are', 'not.', '', 'The', 'food', 'that', 'is,', 'I', \"wouldn't\", 'suggest', 'stopping', 'in', 'if', \"you're\", 'in', 'a', 'hurry', 'but', 'if', 'you', 'have', 'some', 'time', 'to', 'kill,', 'the', 'decor', 'is', 'nice', 'and', 'they', \"don't\", 'rush', 'you.\\n\\nWe', 'had', 'breakfast,', 'the', 'burrito', 'is', 'pretty', 'good', 'sized', 'and', 'the', 'potatoes', 'were', 'crispy.', '', 'The', 'yogurt', 'and', 'fruit', 'plate', 'was', 'actually', 'good', 'sized', 'as', 'well.', '', 'Food', 'was', 'good,', 'the', 'pico', 'on', 'the', 'burrito', 'was', 'sweet', 'rather', 'than', 'spicy,', 'but', 'no', 'complaints', 'otherwise.', '', '\\n\\nSolid', '3', 'stars', 'for', 'the', 'food.', '', '5', 'for', 'the', 'service.']</td></tr><tr><td>5</td><td>['They', 'really', 'know', 'how', 'to', 'make', 'pizza.', 'We', 'just', 'tried', 'them', 'for', 'the', 'first', 'time', 'and', \"we're\", 'extremely', 'happy', 'with', 'the', 'pizza', 'and', 'deeply', 'appreciate', 'it.', \"We're\", 'in', 'awe', 'really.', '', 'We', 'ordered', 'their', 'deep', 'dish', 'pizza', 'with', '4', 'toppings.', 'I', 'highly', 'recommend', 'them.']</td></tr><tr><td>3</td><td>['Nice', 'place.', 'Very', 'clean,', 'they', 'make', 'the', 'pizza', 'right', 'in', 'front', 'of', 'you.', 'The', 'regular', 'pricing', 'is', 'reasonable.', 'Great', 'location', 'in', 'Old', 'Farm', 'Shoppes', 'and', 'parking', 'is', 'always', 'available.', 'This', 'is', 'a', 'quality', 'place', 'that', 'is', 'run', \"right.\\nIt's\", 'not', 'as', 'good', 'as', 'Papa', \"Del's\", 'but', 'Papa', \"Del's\", 'takes', '90', 'minutes', 'or', 'longer', 'to', 'deliver', 'a', 'pizza', 'that', 'has', 'often', 'cooled', 'or', 'slid', 'into', 'a', 'lump', 'of', 'cheese', 'by', 'the', 'time', 'the', 'delivery', 'boy', 'finished', 'smoking', 'the', 'doobie', 'on', 'the', 'way', 'to', 'your', 'house.\\nSo', 'with', 'Papa', \"Murphy's\", \"it's\", 'no', 'tip,', 'hot', 'out', 'of', 'your', 'own', 'oven,', 'and', 'Dow', 'Chemical', 'is', 'happy', 'because', 'each', 'pizza', 'uses', 'two', 'square', 'yards', 'of', 'Saran', 'Wrap.']</td></tr></table></div>\n",
       "    <br />(rows: 3221555, time: 0.1s, cached, job: job_kQZAKLDJLdcydT0JIvznLsL_iNr-)<br />\n",
       "    <script src=\"/static/components/requirejs/require.js\"></script>\n",
       "    <script>\n",
       "      require.config({\n",
       "        paths: {\n",
       "          base: '/static/base',\n",
       "          d3: '//cdnjs.cloudflare.com/ajax/libs/d3/3.4.13/d3',\n",
       "          plotly: 'https://cdn.plot.ly/plotly-1.5.1.min.js?noext',\n",
       "          jquery: '//ajax.googleapis.com/ajax/libs/jquery/2.0.0/jquery.min'\n",
       "        },\n",
       "        map: {\n",
       "          '*': {\n",
       "            datalab: 'nbextensions/gcpdatalab'\n",
       "          }\n",
       "        },\n",
       "        shim: {\n",
       "          plotly: {\n",
       "            deps: ['d3', 'jquery'],\n",
       "            exports: 'plotly'\n",
       "          }\n",
       "        }\n",
       "      });\n",
       "\n",
       "      require(['datalab/charting', 'datalab/element!2_156684813649', 'base/js/events',\n",
       "          'datalab/style!/nbextensions/gcpdatalab/charting.css'],\n",
       "        function(charts, dom, events) {\n",
       "          charts.render('gcharts', dom, events, 'paged_table', [], {\"rows\": [{\"c\": [{\"v\": 3}, {\"v\": [\"A\", \"very\", \"convenient\", \"location\", \"situated\", \"just\", \"on\", \"the\", \"north-east\", \"corner\", \"of\", \"Yonge\", \"&\", \"Bloor.\", \"This\", \"nice\", \"little\", \"boutique\", \"restaurant\", \"is\", \"quite\", \"visible\", \"thanks\", \"to\", \"a\", \"standing\", \"sign\", \"that\", \"says\", \"\\\"Ichiriki\", \"sushi\", \"restaurant\\\".\\n\\nThe\", \"service\", \"in\", \"this\", \"restaurant\", \"is\", \"quick.\", \"I\", \"ordered\", \"a\", \"salmon\", \"and\", \"sashimi\", \"dish,\", \"with\", \"steam\", \"rice\", \"for\", \"an\", \"extra\", \"dollar.\", \"The\", \"portions\", \"are\", \"surprisingly\", \"huge.\", \"On\", \"my\", \"dish,\", \"there\", \"are\", \"three\", \"pieces\", \"of\", \"sashimi,\", \"three\", \"pieces\", \"of\", \"sushi\", \"roll,\", \"garden\", \"salad\", \"on\", \"the\", \"side,\", \"two\", \"large\", \"pieces\", \"of\", \"salmon\", \"and\", \"a\", \"small\", \"dish\", \"of\", \"tuna\", \"salad.\", \"The\", \"tuna\", \"salad\", \"mini-dish\", \"was\", \"refreshing\", \"and\", \"tasty.\", \"The\", \"sushi\", \"has\", \"wasabi\", \"inside,\", \"which\", \"is\", \"prepared\", \"the\", \"correct\", \"authentic\", \"way.\", \"\\n\\nThe\", \"setting\", \"of\", \"the\", \"restaurant\", \"is\", \"suitable\", \"for\", \"a\", \"jazz\", \"band,\", \"as\", \"there\", \"are\", \"many\", \"jazz\", \"photos\", \"posted\", \"on\", \"the\", \"wall.\", \"I\", \"was\", \"told\", \"by\", \"the\", \"waitress\", \"that\", \"jazz\", \"nights\", \"take\", \"place\", \"in\", \"the\", \"restaurant\", \"on\", \"the\", \"weekends.\", \"I\", \"would\", \"raise\", \"an\", \"extra\", \"star\", \"rating\", \"if\", \"I\", \"come\", \"here\", \"one\", \"night\", \"for\", \"their\", \"jazz\", \"performance.\"]}]}, {\"c\": [{\"v\": 5}, {\"v\": [\"Great\", \"breakfast\", \"spot.\", \"Has\", \"free\", \"parking;\", \"we\", \"got\", \"here\", \"at\", \"8:45\", \"am\", \"on\", \"a\", \"Saturday,\", \"beautiful\", \"Saturday,\", \"which\", \"is\", \"an\", \"important\", \"detail\", \"when\", \"venturing\", \"to\", \"the\", \"Strip\", \"District,\", \"we\", \"had\", \"four\", \"in\", \"our\", \"group\", \"and\", \"sat\", \"immediately.\", \"Service\", \"was\", \"friendly\", \"and\", \"fast.\", \"Atmosphere\", \"is\", \"loud,\", \"which\", \"I\", \"personally\", \"really\", \"like,\", \"and\", \"it\", \"was\", \"really\", \"clean.\", \"Chocolate\", \"chip\", \"pancakes\", \"are\", \"on\", \"the\", \"menu,\", \"a\", \"plus\", \"if\", \"you\", \"have\", \"lucky\", \"kids.\", \"I\", \"do.\", \"Coffee\", \"was\", \"smooth\", \"and\", \"the\", \"bread\", \"used\", \"for\", \"my\", \"breakfast\", \"sandwich\", \"was\", \"so\", \"good\", \"and\", \"fresh.\", \"Booth,\", \"table,\", \"&\", \"bar\", \"seating.\", \"I've\", \"been\", \"looking\", \"for\", \"a\", \"really\", \"great\", \"breakfast\", \"place\", \"to\", \"visit\", \"on\", \"the\", \"regular\", \"and\", \"Kelly\", \"O's\", \"will\", \"be\", \"at\", \"the\", \"top\", \"of\", \"my\", \"list.\", \"There\", \"is\", \"really\", \"nothing\", \"negative\", \"to\", \"say\", \"about\", \"our\", \"experience.\"]}]}, {\"c\": [{\"v\": 5}, {\"v\": [\"I've\", \"gone\", \"here\", \"5\", \"times\", \"and\", \"loved\", \"this\", \"place\", \"each\", \"time\", \"I've\", \"gone.\", \"They\", \"have\", \"really\", \"good\", \"smoothies\", \"and\", \"their\", \"sandwiches\", \"are\", \"huge.\", \"And\", \"I\", \"think\", \"they're\", \"starting\", \"to\", \"sell\", \"sushi\", \"now\", \"so\", \"that's\", \"a\", \"plus\"]}]}, {\"c\": [{\"v\": 5}, {\"v\": [\"Mastro's\", \"was\", \"recommended\", \"by\", \"a\", \"co-worker\", \"who\", \"went\", \"to\", \"one\", \"of\", \"the\", \"locations\", \"in\", \"CA\", \"and\", \"absolutely\", \"loved\", \"it.\", \"I\", \"made\", \"reservations\", \"for\", \"a\", \"group\", \"of\", \"friends\", \"and\", \"I,\", \"and\", \"despite\", \"some\", \"initial\", \"resistance\", \"from\", \"my\", \"fellow\", \"Yelper\", \"Lauren\", \"M.,\", \"we\", \"all\", \"had\", \"a\", \"fabulous\", \"time\", \"and\", \"were\", \"more\", \"than\", \"happy\", \"with\", \"our\", \"decision\", \"to\", \"come\", \"here!\\n\\nOur\", \"server,\", \"Lionel,\", \"was\", \"amazing\", \"the\", \"whole\", \"evening.\", \"He\", \"was\", \"friendly,\", \"helpful,\", \"and\", \"attentive.\", \"He\", \"recommended\", \"we\", \"get\", \"a\", \"customized\", \"seafood\", \"tower,\", \"and\", \"everyone\", \"in\", \"the\", \"group\", \"was\", \"very\", \"impressed.\\n\\nWe\", \"were\", \"also\", \"impressed\", \"with\", \"our\", \"meals.\", \"I\", \"got\", \"the\", \"bone-in\", \"filet,\", \"and\", \"two\", \"of\", \"my\", \"friends\", \"split\", \"the\", \"tomahawk\", \"special.\", \"My\", \"other\", \"friends\", \"got\", \"fish.\", \"My\", \"filet\", \"melted\", \"in\", \"my\", \"mouth\", \"and\", \"was\", \"cooked\", \"perfectly.\", \"I\", \"don't\", \"typically\", \"get\", \"filet\", \"when\", \"I\", \"go\", \"to\", \"a\", \"steakhouse,\", \"but\", \"I\", \"was\", \"so\", \"happy\", \"with\", \"my\", \"meal!\", \"\\n\\nWe\", \"also\", \"got\", \"the\", \"very\", \"popular\", \"lobster\", \"mashed\", \"potatoes\", \"for\", \"a\", \"side,\", \"and\", \"it\", \"was\", \"delicious.\", \"Lionel\", \"brought\", \"us\", \"out\", \"some\", \"of\", \"the\", \"warm\", \"butter\", \"cake\", \"for\", \"dessert,\", \"and\", \"it\", \"was\", \"amazing!\", \"You\", \"could\", \"definitely\", \"smell\", \"the\", \"butter\", \"as\", \"soon\", \"as\", \"he\", \"put\", \"it\", \"down\", \"on\", \"the\", \"table.\", \"You\", \"must\", \"try\", \"it\", \"if\", \"you\", \"come\", \"to\", \"Mastro's!\\n\\nThe\", \"setting\", \"is\", \"a\", \"little\", \"weird,\", \"as\", \"you\", \"are\", \"essentially\", \"in\", \"the\", \"middle\", \"of\", \"a\", \"mall.\", \"Honestly,\", \"the\", \"food\", \"was\", \"so\", \"good\", \"that\", \"I\", \"could\", \"have\", \"been\", \"sitting\", \"literally\", \"anywhere\", \"and\", \"enjoyed\", \"this\", \"meal!\"]}]}, {\"c\": [{\"v\": 2}, {\"v\": [\"Dropped\", \"in\", \"on\", \"a\", \"beautiful\", \"Saturday\", \"afternoon\", \"for\", \"a\", \"feed\", \"of\", \"fish\", \"and\", \"chips.\", \"Being\", \"an\", \"English\", \"pub\", \"I\", \"thought\", \"it\", \"should\", \"be\", \"good,\", \"which\", \"was\", \"confirmed\", \"by\", \"our\", \"(very\", \"nice)\", \"serve.\", \"I\", \"thought,\", \"it\", \"better\", \"be\", \"good\", \"for\", \"$17.99!!\", \"\\n\\nVery\", \"disappointing.\", \"The\", \"fish\", \"was\", \"like\", \"a\", \"halibut\", \"steak\", \"instead\", \"of\", \"haddock\", \"or\", \"cod.\", \"It\", \"was\", \"dense\", \"like\", \"meat,\", \"and\", \"not\", \"flaky\", \"because\", \"it\", \"was\", \"overcooked.\", \"The\", \"beer\", \"batter\", \"was\", \"ok\", \"and\", \"crispy\", \"enough\", \"but\", \"the\", \"fish\", \"inside\", \"was\", \"tough\", \"and\", \"not\", \"very\", \"hot.\", \"Chips\", \"were\", \"also\", \"not\", \"very\", \"crispy\", \"or\", \"hot\", \"--\", \"not\", \"sure\", \"if\", \"they\", \"were\", \"fresh.\\n\\nTo\", \"the\", \"server's\", \"credit,\", \"she\", \"first\", \"offered\", \"something\", \"else\", \"and\", \"then\", \"came\", \"back\", \"to\", \"let\", \"me\", \"know\", \"she\", \"took\", \"the\", \"fish\", \"and\", \"chips\", \"off\", \"our\", \"bill.\", \"So\", \"that\", \"was\", \"good.\", \"Maybe\", \"it\", \"was\", \"just\", \"an\", \"off\", \"day\", \"but\", \"I\", \"won't\", \"be\", \"back\", \"to\", \"try\", \"it\", \"again.\\n\\nP.S.\", \"A\", \"little\", \"cup\", \"of\", \"coffee\", \"was\", \"$2.50!\", \"Sigh.\"]}]}, {\"c\": [{\"v\": 4}, {\"v\": [\"Rudy's\", \"has\", \"earned\", \"it's\", \"way\", \"to\", \"our\", \"\\\"go\", \"to\\\"\", \"local\", \"italian\", \"joint.\", \"\", \"We\", \"love\", \"the\", \"owner,\", \"the\", \"service\", \"is\", \"always\", \"great,\", \"and\", \"the\", \"food\", \"is\", \"on\", \"point.\", \"\", \"In\", \"fact,\", \"they\", \"will\", \"customize\", \"their\", \"menu\", \"for\", \"you\", \"easily\", \"when\", \"asked.\", \"\", \"The\", \"only\", \"reason\", \"I\", \"didn't\", \"give\", \"it\", \"5\", \"stars\", \"is\", \"that\", \"the\", \"paint\", \"job\", \"on\", \"the\", \"inside\", \"is\", \"a\", \"bit\", \"much\", \"and\", \"parking\", \"can\", \"be\", \"a\", \"bit\", \"of\", \"a\", \"pain.\", \"\", \"However,\", \"when\", \"my\", \"wife\", \"and\", \"I\", \"are\", \"thinking\", \"local\", \"italian,\", \"we're\", \"thinking\", \"Rudy's.\", \"\", \"I\", \"highly\", \"recommend\", \"this\", \"place!\"]}]}, {\"c\": [{\"v\": 4}, {\"v\": [\"We\", \"missed\", \"HH\", \"by\", \"15\", \"mins,\", \"which\", \"was\", \"sad.\", \"BUT\", \"I\", \"had\", \"a\", \"coupon\", \"from\", \"Restaurant.com\", \"so\", \"it\", \"was\", \"ok\", \"either\", \"way.\\n\\nIf\", \"you\", \"check\", \"in\", \"on\", \"Yelp\", \"you\", \"get\", \"a\", \"free\", \"glass\", \"of\", \"Sangria\", \":)\", \"Place\", \"is\", \"super\", \"cute\", \"&\", \"I'm\", \"totally\", \"going\", \"back\", \"again.\", \"It's\", \"in\", \"the\", \"same\", \"strip\", \"mall\", \"as\", \"Off\", \"the\", \"Strip,\", \"plenty\", \"of\", \"parking,\", \"and\", \"apparently\", \"has\", \"a\", \"swinging\", \"HH\", \"from\", \"4-7\", \"with\", \"50%\", \"off\", \"entrees.\\n\\nThey\", \"also\", \"have\", \"many\", \"TV's\", \"which\", \"made\", \"us\", \"happy!\", \"\\n\\nI\", \"posted\", \"some\", \"pix\", \"of\", \"the\", \"food,\", \"\", \"here's\", \"what\", \"we\", \"got:\\n\\n1)\", \"bacon\", \"wrapped\", \"dates,\", \"pretty\", \"good,\", \"bacon\", \"was\", \"a\", \"little\", \"dry\\n2)\", \"almond\", \"&\", \"panko\", \"deep\", \"fried\", \"goat\", \"cheese\", \"with\", \"a\", \"balsamic\", \"reduction\", \"-Yes\", \"please,\", \"more\\n3)\", \"lots\", \"of\", \"bread\", \"&\", \"hummus-hummus\", \"needed\", \"more\", \"garlic\", \"in\", \"my\", \"opinion\", \"but\", \"I\", \"heart\", \"carbs\\n4)\", \"Serrano\", \"wrapped\", \"cheese,\", \"black\", \"olives,\", \"little\", \"pickles\", \"-how\", \"fun\", \"this\", \"plate\", \"was\\n5)\", \"crowd\", \"pleaser\", \"&\", \"shockingly\", \"good-\", \"escargot\", \"with\", \"saffron\", \"in\", \"a\", \"tomato\", \"sauce.\", \"Not\", \"what\", \"I\", \"expected\", \"at\", \"all\", \"but\", \"really\", \"really\", \"good\", \"[do\", \"it!]\"]}]}, {\"c\": [{\"v\": 1}, {\"v\": [\"My\", \"wife\", \"and\", \"I\", \"had\", \"a\", \"HORRIBLE\", \"first\", \"experience\", \"here\", \"and\", \"will\", \"not\", \"be\", \"back.\", \"When\", \"we\", \"arrived,\", \"we\", \"sat\", \"towards\", \"the\", \"front\", \"of\", \"the\", \"bar\", \"area\", \"because\", \"they\", \"said\", \"that\", \"a\", \"group\", \"reservation\", \"will\", \"be\", \"taking\", \"place\", \"in\", \"the\", \"back\", \"of\", \"the\", \"bar\", \"area.\", \"The\", \"waitor\", \"took\", \"our\", \"appetizer\", \"order\", \"that\", \"took\", \"several\", \"minutes\", \"to\", \"come\", \"out\", \"for\", \"such\", \"a\", \"small\", \"plate.\", \"Then\", \"we\", \"never\", \"saw\", \"him\", \"again.\", \"We\", \"had\", \"to\", \"stop\", \"another\", \"waiter\", \"to\", \"ask\", \"for\", \"dinner\", \"menus...never\", \"came\", \"back.\", \"And\", \"then\", \"a\", \"lady\", \"came\", \"by\", \"and\", \"asked\", \"us\", \"if\", \"we\", \"were\", \"doing\", \"ok\", \"and\", \"we\", \"said\", \"absolutely\", \"not!\", \"We\", \"asked\", \"for\", \"our\", \"check\", \"and\", \"left\", \"to\", \"get\", \"dinner\", \"at\", \"another\", \"restaurant.\", \"My\", \"wife\", \"was\", \"so\", \"upset\", \"that\", \"she\", \"called\", \"them\", \"back\", \"the\", \"next\", \"day\", \"to\", \"speak\", \"to\", \"management\", \"and\", \"tell\", \"them\", \"of\", \"our\", \"horrible\", \"experience.\", \"Service\", \"was\", \"so\", \"bad\", \"that\", \"they\", \"asked\", \"if\", \"there\", \"was\", \"something\", \"they\", \"could\", \"offer\", \"us\", \"to\", \"make\", \"us\", \"want\", \"to\", \"come\", \"back\", \"but\", \"it\", \"was\", \"so\", \"bad\", \"that\", \"we\", \"declined.\", \"FYI,\", \"my\", \"wife\", \"was\", \"a\", \"waitress\", \"for\", \"years\", \"and\", \"has\", \"worked\", \"in\", \"the\", \"retail\", \"industry\", \"for\", \"ages\", \"now\", \"and\", \"knows\", \"the\", \"importance\", \"of\", \"good\", \"\", \"customer\", \"service.\", \"This\", \"was\", \"absolutely\", \"not\", \"it!!!\"]}]}, {\"c\": [{\"v\": 5}, {\"v\": [\"Wow,\", \"I\", \"am\", \"sad\", \"I\", \"didn't\", \"find\", \"Amelie's\", \"sooner.\", \"After\", \"a\", \"long\", \"day\", \"in\", \"Charlotte\", \"I\", \"was\", \"looking\", \"for\", \"a\", \"place\", \"to\", \"grab\", \"some\", \"coffee\", \"and\", \"a\", \"dessert\", \"and\", \"there\", \"was\", \"Amelie's.\", \"As\", \"soon\", \"as\", \"we\", \"stepped\", \"inside\", \"the\", \"smell\", \"of\", \"fresh\", \"baked\", \"pastry\", \"welcomed\", \"us.\", \"Once\", \"I\", \"saw\", \"the\", \"fruit\", \"tart\", \"I\", \"knew\", \"what\", \"I\", \"was\", \"going\", \"to\", \"order.\", \"My\", \"husband\", \"choose\", \"the\", \"chocolate\", \"croissant.\", \"I\", \"was\", \"pleasantly\", \"surprised\", \"when\", \"they\", \"informed\", \"us\", \"that\", \"they\", \"serve\", \"french\", \"press\", \"coffee.\", \"The\", \"interior\", \"is\", \"decorated\", \"in\", \"a\", \"funky\", \"and\", \"eclectic\", \"style\", \"which\", \"is\", \"n\", \"stark\", \"contrast\", \"to\", \"the\", \"refined\", \"pastry\", \"they\", \"serve.\", \"\\n\\nThe\", \"crust\", \"on\", \"the\", \"tart\", \"was\", \"delicate\", \"and\", \"buttery\", \"topped\", \"with\", \"sweetened\", \"cream\", \"and\", \"sliced\", \"fresh\", \"ripe\", \"fruit.\", \"There\", \"was\", \"a\", \"sweet\", \"sticky\", \"glaze\", \"over\", \"the\", \"top.\", \"YUM!\", \"The\", \"chocolate\", \"croissant\", \"was\", \"flaky\", \"and\", \"buttery\", \"with\", \"just\", \"enough\", \"chocolate\", \"in\", \"every\", \"bite.\", \"I\", \"will\", \"be\", \"back\", \"again\", \"and\", \"again.\"]}]}, {\"c\": [{\"v\": 1}, {\"v\": [\"Worst\", \"tenders\", \"ever.\", \"No\", \"flavor.\", \"They\", \"forgot\", \"to\", \"give\", \"me\", \"my\", \"ranch\", \"sauce\", \"with\", \"my\", \"order.\", \"At\", \"least\", \"that\", \"would\", \"of\", \"helped\", \"with\", \"the\", \"taste.\"]}]}, {\"c\": [{\"v\": 5}, {\"v\": [\"My\", \"family\", \"insists\", \"on\", \"this\", \"bread\", \"for\", \"sandwiches,\", \"toast,\", \"etc.\", \"at\", \"home.\", \"The\", \"sourdough\", \"is\", \"delicious\", \"toasted,\", \"but\", \"we\", \"also\", \"love\", \"the\", \"Dakota\", \"and\", \"9\", \"grain.\", \"I\", \"love\", \"that\", \"it\", \"is\", \"made\", \"with\", \"whole\", \"grains.\", \"\\n\\nWe\", \"love\", \"getting\", \"sandwiches\", \"made\", \"at\", \"the\", \"bakery\", \"as\", \"well.\", \"I\", \"prefer\", \"the\", \"Chicken\", \"Berry\", \"Pecan,\", \"but\", \"I\", \"also\", \"love\", \"the\", \"grilled\", \"cheese\", \"with\", \"soup.\", \"They\", \"put\", \"a\", \"garlic\", \"spread\", \"on\", \"it\", \"that\", \"puts\", \"it\", \"over\", \"the\", \"top.\", \"\", \"My\", \"two\", \"other\", \"favorites\", \"are\", \"the\", \"Banana\", \"Walnut\", \"Bread\", \"and\", \"the\", \"sugar\", \"cookies.\", \"Oh\", \"my\", \"goodness,\", \"the\", \"sugar\", \"cookies!\", \"\", \"I\", \"love\", \"them\", \"sooo\", \"much.\", \"\\n\\nThe\", \"staff\", \"is\", \"very\", \"friendly\", \"and\", \"willing\", \"to\", \"help.\", \"I've\", \"never\", \"had\", \"a\", \"bad\", \"experience\", \"there.\", \"I'll\", \"definitely\", \"be\", \"back.\"]}]}, {\"c\": [{\"v\": 5}, {\"v\": [\"This\", \"place\", \"has\", \"some\", \"of\", \"the\", \"best\", \"food\", \"I've\", \"eaten.\", \"Even\", \"the\", \"tortilla\", \"was\", \"superb!\", \"Any\", \"downside\", \"with\", \"limited\", \"parking\", \"and\", \"a\", \"slightly\", \"cramped\", \"dining\", \"area\", \"are\", \"quickly\", \"forgotten\", \"when\", \"you\", \"take\", \"your\", \"first\", \"bite.\", \"There\", \"is\", \"a\", \"great\", \"selection\", \"of\", \"salsas\", \"at\", \"their\", \"salsa\", \"bar,\", \"ranging\", \"from\", \"mild\", \"and\", \"tasty\", \"to\", \"hot\", \"hot\", \"hot\", \"and\", \"tasty.\", \"Staff\", \"are\", \"pros\", \"and\", \"friendly\", \"and\", \"will\", \"help\", \"with\", \"the\", \"menu\", \"if\", \"your\", \"not\", \"sure\", \"what\", \"to\", \"order\", \"or\", \"if\", \"you\", \"have\", \"any\", \"questions.\", \"They\", \"also\", \"seem\", \"perfectly\", \"willing\", \"to\", \"make\", \"accommodations\", \"if\", \"you\", \"ask\", \"for\", \"substitutions\", \"or\", \"additions\", \"to\", \"your\", \"order.\", \"This\", \"is\", \"a\", \"definite\", \"must\", \"try\", \"place,\", \"cause\", \"you'll\", \"love\", \"it.\"]}]}, {\"c\": [{\"v\": 5}, {\"v\": [\"I\", \"can\", \"go\", \"there\", \"everyday\", \"every\", \"night!This\", \"is\", \"by\", \"far\", \"my\", \"most\", \"fav\", \"tapas\", \"place\", \"in\", \"Toronto.\\nThe\", \"amazing\", \"high\", \"ratings\", \"do\", \"live\", \"up\", \"to\", \"its\", \"ambiance\\\\/food\", \"and\", \"service.\\n\\nThe\", \"bonus\", \"to\", \"this\", \"place\", \"is\", \"it\", \"opens\", \"up\", \"as\", \"early\", \"as\", \"8\", \"in\", \"the\", \"morning\", \"which\", \"is\", \"rare\", \"to\", \"find\", \"for\", \"a\", \"place\", \"this\", \"kind.\\n\\nAmbiance:\\nSo\", \"this\", \"place\", \"is\", \"divided\", \"in\", \"two\", \"sections\", \"one\", \"is\", \"the\", \"outdoor\", \"patio\", \"which\", \"is\", \"amazingly\", \"beautiful\", \"to\", \"sit\", \"at\", \"during\", \"the\", \"summer\\\\/spring\", \"time\", \"and\", \"then\", \"the\", \"historic\", \"indoor\", \"space\", \"which\", \"isn't\", \"too\", \"big\", \"but\", \"is\", \"just\", \"beautifully\", \"made\", \"with\", \"lots\", \"of\", \"great\", \"wood\", \"work\", \"and\", \"wonderful\", \"lighting.They\", \"are\", \"no\", \"tables\", \"instead\", \"there's\", \"a\", \"bar\", \"too\", \"that\", \"wraps\", \"around\", \"the\", \"space\", \"and\", \"a\", \"few\", \"high\", \"top\", \"tables\", \"with\", \"stools,\", \"just\", \"perfect.\\n\\nFood:\\nOh\", \"my\", \"goodness\", \"I\", \"can\", \"actually\", \"eat\", \"here\", \"everyday\", \"and\", \"die\", \"a\", \"happy\", \"women.So\", \"this\", \"place\", \"carries\", \"tapas\", \"which\", \"means\", \"tiny\", \"plates.I\", \"have\", \"tried\", \"most\", \"of\", \"their\", \"menu\", \"items\", \"and\", \"they\", \"all\", \"are\", \"to\", \"die\", \"for.I\", \"highly\", \"recommend\", \"the\", \"hot\", \"octopus\", \"which\", \"is\", \"chunks\", \"of\", \"hot\", \"octopus\", \"with\", \"herb\", \"infused\", \"oil\", \"and\", \"potatoes\", \"with\", \"a\", \"hint\", \"of\", \"paprika.Its\", \"a\", \"gorgeous\", \"plate.I\", \"love\", \"their\", \"canned\", \"selection\", \"of\", \"which\", \"my\", \"fav\", \"is\", \"the\", \"mackerel,\", \"there\", \"are\", \"chunks\", \"of\", \"thick\", \"mackerel\", \"with\", \"oil\", \"and\", \"lotsa\", \"bread.Salmon\", \"croissants\", \"\", \"is\", \"amongst\", \"my\", \"favorites\", \"too.\", \"And\", \"when\", \"here\", \"do\", \"not\", \"miss\", \"on\", \"their\", \"fabulous\", \"desserts\", \"they\", \"do\", \"not\", \"have\", \"a\", \"huge\", \"variety\", \"but\", \"their\", \"donuts\", \"and\", \"cake\", \"slices\", \"or\", \"to\", \"die\", \"for.\", \"The\", \"last\", \"time\", \"I\", \"was\", \"here\", \"I\", \"tried\", \"their\", \"hazelnut\", \"old-fashioned\", \"doughnut,\", \"I\", \"highly\", \"recommend\", \"that.\\n\\nService\\\\/Pricing\\\\/Parking:\\nEvery\", \"time\", \"I've\", \"been\", \"there\", \"the\", \"service\", \"has\", \"been\", \"top\", \"notch\", \"the\", \"manager\", \"and\", \"the\", \"crew\", \"are\", \"extremely\", \"helpful\", \"and\", \"the\", \"food\", \"comes\", \"out\", \"in\", \"a\", \"decent\", \"time.The\", \"bartenders\", \"are\", \"friendly\", \"and\", \"give\", \"good\", \"suggestions\", \"on\", \"drinks.\", \"As\", \"far\", \"as\", \"the\", \"pricing\", \"goes\", \"the\", \"tapas\", \"are\", \"fairly\", \"priced\", \"and\", \"so\", \"are\", \"the\", \"coffees.I\", \"feel\", \"their\", \"drinks\", \"are\", \"little\", \"pricey\", \"but\", \"are\", \"absolutely\", \"worth\", \"it.\", \"There\", \"is\", \"lots\", \"of\", \"paid\", \"parking\", \"outside\", \"the\", \"restaurant.\\n\\nI\", \"absolutely\", \"love\", \"and\", \"adore\", \"this\", \"place\", \"and\", \"don't\", \"mind\", \"coming\", \"here\", \"over\", \"and\", \"over\", \"again.\", \"This\", \"by\", \"far\", \"is\", \"one\", \"of\", \"my\", \"most\", \"favorite\", \"places\", \"to\", \"eat\", \"in\", \"Toronto.\"]}]}, {\"c\": [{\"v\": 3}, {\"v\": [\"Suprisingly\", \"the\", \"food\", \"is\", \"pretty\", \"good.\", \"The\", \"pastor\", \"meat\", \"taste\", \"good\", \"n\", \"asada\", \"is\", \"just\", \"ok\", \"for\", \"me.\", \"$1.50\", \"for\", \"the\", \"small\", \"tacos\", \"n\", \"$3\", \"for\", \"the\", \"larger\", \"tacos.\", \"Its\", \"a\", \"very\", \"small\", \"establishment\", \"with\", \"5\", \"booths\", \"n\", \"1\", \"longer\", \"booth\", \"facing\", \"the\", \"cashier.\", \"Price\", \"is\", \"pretty\", \"reasonable\", \"i\", \"guess,\", \"they\", \"do\", \"have\", \"a\", \"bathroom\", \"also\", \"didn't\", \"look\", \"like\", \"it\", \"at\", \"first.\", \"It's\", \"chill,\", \"would\", \"i\", \"come\", \"back?\", \"Maybe\", \"if\", \"i\", \"were\", \"in\", \"the\", \"area\", \"again\", \"but\", \"i\", \"wouldn't\", \"make\", \"the\", \"drive\", \"just\", \"to\", \"do\", \"it.\", \"I'll\", \"leave\", \"it\", \"with\", \"that!\"]}]}, {\"c\": [{\"v\": 3}, {\"v\": [\"Putting\", \"a\", \"little\", \"\\\"oh\\\"\", \"in\", \"Ohio.\\n\\nComing\", \"from\", \"the\", \"Loop\", \"(and\", \"I\", \"am\", \"proud)\", \"I\", \"was\", \"skeptical\", \"that\", \"Cleveland\", \"would\", \"have\", \"much\", \"to\", \"offer.\", \"\", \"Though\", \"I\", \"was\", \"offered\", \"a\", \"free\", \"meal\", \"at\", \"the\", \"Harp\", \"for\", \"some\", \"tasteful\", \"\\\"Irish-inspired\\\"\", \"fun.\\n\\nAtmosphere:\", \"\", \"Combo\", \"of\", \"the\", \"dingy\", \"of\", \"a\", \"bar,\", \"with\", \"the\", \"seating\", \"of\", \"a\", \"TGIF.\", \"\", \"Its\", \"pretty\", \"family\", \"friendly,\", \"but\", \"we\", \"must\", \"have\", \"come\", \"during\", \"\\\"ladies\", \"night\\\"\", \"because\", \"all\", \"the\", \"middle\", \"aged\", \"women\", \"were\", \"intoxicated\", \"and\", \"going\", \"supersonic.\", \"\", \"Overall,\", \"both\", \"4\", \"person\", \"tables\", \"and\", \"group\", \"seating\", \"are\", \"available,\", \"though\", \"not\", \"huge\", \"on\", \"decor.\\n\\nService:\", \"\", \"Ran\", \"sort\", \"of\", \"slow,\", \"but\", \"always\", \"filled\", \"my\", \"Coke\", \"glass.\", \"\", \"This\", \"is\", \"not\", \"fine\", \"dining,\", \"but\", \"service\", \"staff\", \"was\", \"pleasant\", \"and\", \"helpful.\\n\\nFood:\", \"\", \"Pretty\", \"much\", \"the\", \"same\", \"menu\", \"you\", \"would\", \"get\", \"at\", \"a\", \"TGIF,\", \"with\", \"pretty\", \"standard\", \"fare.\", \"\", \"The\", \"reason\", \"for\", \"the\", \"generous\", \"4\", \"star\", \"was\", \"a\", \"good\", \"selection\", \"of\", \"appetizers,\", \"from\", \"Crab\", \"Cakes,\", \"to\", \"Calamari,\", \"to\", \"Quesadillas\", \"\", \"I\", \"had\", \"the\", \"Chicken\", \"pasta,\", \"which\", \"was\", \"nothing\", \"special,\", \"just\", \"good\", \"old\", \"fashion\", \"food.\", \"\", \"I\", \"had\", \"their\", \"Cheesecake,\", \"which\", \"was\", \"a\", \"downright\", \"disappointment,\", \"so\", \"any\", \"appetizer\", \"love\", \"has\", \"dried\", \"up.\\n\\nMommy\", \"Factor:\", \"\", \"This\", \"is\", \"a\", \"place\", \"I\", \"would\", \"probably\", \"bring\", \"the\", \"folks.\", \"\", \"Its\", \"not\", \"a\", \"fancy\", \"place\", \"by\", \"any\", \"means,\", \"but\", \"its\", \"pretty\", \"benign\", \"that\", \"parents\", \"would\", \"not\", \"mind.\", \"\", \"SInce\", \"it\", \"still\", \"is\", \"\\\"bar\", \"like\\\"\", \"its\", \"not\", \"a\", \"truly\", \"kid\", \"friendly\", \"place,\", \"but\", \"there\", \"is\", \"no\", \"reason\", \"why\", \"they\", \"wouldn't\", \"be\", \"welcomed.\\n\\nDate\", \"Factor:\", \"\", \"I\", \"would\", \"definitely\", \"not\", \"use\", \"this\", \"as\", \"a\", \"first\", \"date,\", \"more\", \"so\", \"because\", \"I\", \"would\", \"afraid\", \"of\", \"getting\", \"Tetanus,\", \"but\", \"this\", \"is\", \"not\", \"a\", \"terrible\", \"place\", \"to\", \"bring\", \"an\", \"established\", \"significant\", \"other.\", \"\", \"\\n\\nBling:\", \"\", \"Since\", \"I\", \"was\", \"not\", \"paying,\", \"I\", \"didn't\", \"mind\", \"the\", \"adventure.\", \"\", \"However,\", \"appetizers\", \"ranged\", \"from\", \"5-8\", \"bucks\", \"for\", \"a\", \"sampling\", \"for\", \"4\", \"people.\", \"\", \"Entrees\", \"ranged\", \"from\", \"10\", \"-20\", \"bucks,\", \"with\", \"cuts\", \"of\", \"meat\", \"and\", \"fish\", \"ranging\", \"for\", \"about\", \"15\", \"bucks.\\n\\nUpshot:\", \"\", \"Overall,\", \"decent\", \"food,\", \"decent\", \"portions,\", \"and\", \"a\", \"TGIF\", \"vibe\", \"which\", \"\", \"which\", \"I\", \"could\", \"definitely\", \"see\", \"Drew\", \"Carey\", \"frequenting.\"]}]}, {\"c\": [{\"v\": 5}, {\"v\": [\"This\", \"place\", \"is\", \"the\", \"best!\", \"Every\", \"time\", \"I\", \"am\", \"in\", \"Vegas,\", \"I\", \"have\", \"dinner\", \"here\", \"at\", \"least\", \"once\", \"if\", \"not\", \"twice.\", \"\", \"The\", \"food\", \"is\", \"fantastic\", \"and\", \"the\", \"service\", \"is\", \"amazing.\", \"\", \"Great\", \"martinis,\", \"wedge\", \"salad,\", \"awesome\", \"side\", \"dishes\", \"and\", \"the\", \"Bone\", \"in\", \"Rib\", \"eye\", \"is\", \"incredible.\", \"\", \"If\", \"you\", \"have\", \"a\", \"big\", \"appetite\", \"and\", \"are\", \"not\", \"afraid\", \"of\", \"the\", \"$90\", \"cost,\", \"the\", \"Tomahawk\", \"Rib\", \"eye\", \"\", \"is\", \"well\", \"worth\", \"it.\"]}]}, {\"c\": [{\"v\": 5}, {\"v\": [\"The\", \"#1\", \"reason\", \"to\", \"visit\", \"this\", \"particular\", \"location,\", \"is\", \"a\", \"server\", \"named\", \"BRENDA.\\n\\nYes,\", \"the\", \"food\", \"is\", \"terrific\", \"and\", \"the\", \"prices\", \"are\", \"certainly\", \"reasonable,\", \"but\", \"if\", \"the\", \"employees\", \"are\", \"not\", \"\\\"first\", \"class,\\\"\", \"the\", \"entire\", \"dining\", \"experience\", \"suffers.\\n\\nPlease\", \"don't\", \"misunderstand\", \"me.\", \"\", \"ALL\", \"of\", \"the\", \"workers\", \"here\", \"are\", \"friendly,\", \"polite,\", \"cheerful\", \"and\", \"dedicated\", \"to\", \"customer\", \"satisfaction,\", \"but\", \"BRENDA\", \"will\", \"easily\", \"exceed\", \"all\", \"of\", \"your\", \"expectations,\", \"and\", \"her\", \"professionalism\", \"is\", \"why\", \"I\", \"keep\", \"coming\", \"back.\\n\\nThere\", \"is\", \"another\", \"IHOP\", \"location\", \"in\", \"Las\", \"Vegas\", \"NV,\", \"which\", \"I\", \"refuse\", \"to\", \"patronize,\", \"due\", \"to\", \"one\", \"very\", \"rude\", \"&\", \"impolite\", \"employee,\", \"so\", \"don't\", \"think\", \"that\", \"I'm\", \"enthusiastic\", \"about\", \"all\", \"of\", \"the\", \"IHOP\", \"locations,\", \"because\", \"that's\", \"not\", \"the\", \"case.\", \"\", \"This\", \"review\", \"is\", \"only\", \"for\", \"this\", \"specific\", \"place.\\n\\nLastly,\", \"the\", \"General\", \"Manager\", \"(April)\", \"needs\", \"to\", \"be\", \"complimented\", \"too,\", \"because\", \"it\", \"is\", \"she\", \"who\", \"oversees\", \"the\", \"hiring\", \"and\", \"training\", \"of\", \"the\", \"staff,\", \"and\", \"they\", \"all\", \"are\", \"an\", \"excellent\", \"reflection\", \"of\", \"her\", \"instincts\", \"regarding\", \"people\", \"and\", \"her\", \"overall\", \"management\", \"abilities.\\n\\nDining\", \"here\", \"is\", \"an\", \"every\", \"weekend\", \"\\\"event\\\"\", \"for\", \"me\", \"and\", \"several\", \"of\", \"my\", \"friends,\", \"and\", \"it\", \"may\", \"surprise\", \"some\", \"to\", \"learn\", \"that\", \"it\", \"is\", \"a\", \"28-MILE\", \"ROUND\", \"TRIP\", \"that\", \"I\", \"happily\", \"drive,\", \"whenever\", \"I\", \"want\", \"wonderful\", \"food\", \"and\", \"\\\"awesome\\\"\", \"service.\"]}]}, {\"c\": [{\"v\": 5}, {\"v\": [\"THE\", \"FOOD\", \"AND\", \"SERVICE\", \"ARE\", \"FANTASTIC!\", \"\", \"We\", \"had\", \"a\", \"server\", \"named\", \"Preston.\", \"I\", \"tipped\", \"that\", \"wonderful\", \"young\", \"man\", \"almost\", \"50%!\", \"and\", \"he\", \"deserved\", \"even\", \"more\", \"than\", \"that!\", \"On\", \"Saturday\", \"&\", \"Sunday\", \"they\", \"are\", \"very\", \"busy.\", \"Every\", \"table\", \"was\", \"occupied;\", \"however\", \"our\", \"waiter,\", \"Preston,\", \"never\", \"missed\", \"refilling\", \"our\", \"coffee\", \"and\", \"water\", \"as\", \"soon\", \"as\", \"we\", \"drank\", \"a\", \"little\", \"and\", \"checked\", \"to\", \"see\", \"if\", \"we\", \"needed\", \"anything.\", \"\\nBEST\", \"COFFEE\", \"in\", \"town!\", \"\\nWe\", \"went\", \"on\", \"a\", \"Saturday\", \"morning\", \"and\", \"enjoyed\", \"it\", \"so\", \"much,\", \"we\", \"went\", \"back\", \"on\", \"Sunday!\\nThe\", \"prices\", \"aren't\", \"the\", \"cheapest\", \"in\", \"town,\", \"but\", \"no\", \"where\", \"near\", \"as\", \"much\", \"as\", \"one\", \"would\", \"expect\", \"to\", \"pay\", \"for\", \"the\", \"quality\", \"of\", \"the\", \"food\", \"and\", \"service!\\nThe\", \"portions\", \"are\", \"very\", \"large!\", \"On\", \"both\", \"visits,\", \"my\", \"sister\", \"and\", \"I\", \"shared\", \"a\", \"breakfast\", \"and\", \"it\", \"was\", \"definitely\", \"enough\", \"to\", \"satisfy!\\nI\", \"would\", \"definitely\", \"recommend\", \"this\", \"restaurant\", \"to\", \"anyone\", \"who\", \"is\", \"looking\", \"for\", \"great\", \"food,\", \"great\", \"service\", \"and\", \"great\", \"value!\"]}]}, {\"c\": [{\"v\": 5}, {\"v\": [\"Awesome\", \"food...very\", \"accommodating!!\", \"I'm\", \"new\", \"to\", \"the\", \"area\", \"and\", \"I\", \"felt\", \"so\", \"welcomed\", \"by\", \"Christian.\", \"He\", \"made\", \"my\", \"favorite\", \"little\", \"cocktail\", \"of\", \"Tito's\", \"n\", \"sparkling\", \"water\", \"with\", \"a\", \"lime.\", \"I\", \"can't\", \"wait\", \"to\", \"bring\", \"my\", \"family\", \"and\", \"friends\", \"here...Awesome\", \"place!!\"]}]}, {\"c\": [{\"v\": 4}, {\"v\": [\"Great\", \"food\", \"and\", \"great\", \"atmosphere.\", \"Come\", \"from\", \"a\", \"Thai\", \"family\", \"and\", \"this\", \"place,\", \"considering\", \"its\", \"hipster\", \"location\", \"and\", \"demographic\", \"is\", \"surprisingly\", \"authentic.\", \"Service\", \"was\", \"a\", \"little\", \"slow\", \"so\", \"order\", \"everything\", \"in\", \"one\", \"shot.\"]}]}, {\"c\": [{\"v\": 5}, {\"v\": [\"I\", \"only\", \"come\", \"to\", \"Vegas\", \"for\", \"this\", \"place\", \"and\", \"this\", \"location.\", \"\", \"I\", \"have\", \"not\", \"ever\", \"been\", \"to\", \"the\", \"other\", \"one\", \"but\", \"don't\", \"want\", \"to\", \"risk\", \"my\", \"Shrimp\", \"Basket\", \"being\", \"prepared\", \"different...\\n\\nLove\", \"this\", \"place\", \"and\", \"our\", \"server\", \"was\", \"Fantastic...I\", \"can't\", \"remember\", \"her\", \"name,\", \"but\", \"she\", \"was\", \"a\", \"sweety...wrote\", \"huge\", \"Happy\", \"Birthday\", \"and\", \"Thank\", \"You\", \"on\", \"our\", \"bill\", \"and\", \"circled\", \"the\", \"gratuity\", \"that\", \"was\", \"charged\", \"to\", \"us.\", \"\", \"We\", \"had\", \"NO\", \"PROBLEM!!!\", \"SHE\", \"WAS\", \"GREAT!!!\"]}]}, {\"c\": [{\"v\": 4}, {\"v\": [\"A\", \"coworker\", \"and\", \"I\", \"stopped\", \"in\", \"for\", \"a\", \"snack\", \"and\", \"a\", \"drink\", \"while\", \"we\", \"brainstormed.\", \"\", \"The\", \"server\", \"was\", \"great\", \"and\", \"the\", \"snacks\", \"(deviled\", \"eggs,\", \"skillet\", \"cornbready\", \"thing)\", \"were\", \"tasty.\", \"\", \"My\", \"only\", \"issue\", \"was\", \"that\", \"there\", \"were\", \"a\", \"ton\", \"of\", \"small\", \"flies\", \"flying\", \"around\", \"outside\", \"that\", \"were\", \"getting\", \"annoying.\", \"\", \"But\", \"hey,\", \"it's\", \"summer,\", \"it's\", \"Charlotte,\", \"these\", \"things\", \"happen.\\n\\nOverall\", \"-\", \"4\", \"stars.\", \"\", \"Solid.\"]}]}, {\"c\": [{\"v\": 4}, {\"v\": [\"Well,\", \"they\", \"sure\", \"are\", \"friendly.\\n\\nBut\", \"speedy\", \"they\", \"are\", \"not.\", \"\", \"The\", \"food\", \"that\", \"is,\", \"I\", \"wouldn't\", \"suggest\", \"stopping\", \"in\", \"if\", \"you're\", \"in\", \"a\", \"hurry\", \"but\", \"if\", \"you\", \"have\", \"some\", \"time\", \"to\", \"kill,\", \"the\", \"decor\", \"is\", \"nice\", \"and\", \"they\", \"don't\", \"rush\", \"you.\\n\\nWe\", \"had\", \"breakfast,\", \"the\", \"burrito\", \"is\", \"pretty\", \"good\", \"sized\", \"and\", \"the\", \"potatoes\", \"were\", \"crispy.\", \"\", \"The\", \"yogurt\", \"and\", \"fruit\", \"plate\", \"was\", \"actually\", \"good\", \"sized\", \"as\", \"well.\", \"\", \"Food\", \"was\", \"good,\", \"the\", \"pico\", \"on\", \"the\", \"burrito\", \"was\", \"sweet\", \"rather\", \"than\", \"spicy,\", \"but\", \"no\", \"complaints\", \"otherwise.\", \"\", \"\\n\\nSolid\", \"3\", \"stars\", \"for\", \"the\", \"food.\", \"\", \"5\", \"for\", \"the\", \"service.\"]}]}, {\"c\": [{\"v\": 5}, {\"v\": [\"They\", \"really\", \"know\", \"how\", \"to\", \"make\", \"pizza.\", \"We\", \"just\", \"tried\", \"them\", \"for\", \"the\", \"first\", \"time\", \"and\", \"we're\", \"extremely\", \"happy\", \"with\", \"the\", \"pizza\", \"and\", \"deeply\", \"appreciate\", \"it.\", \"We're\", \"in\", \"awe\", \"really.\", \"\", \"We\", \"ordered\", \"their\", \"deep\", \"dish\", \"pizza\", \"with\", \"4\", \"toppings.\", \"I\", \"highly\", \"recommend\", \"them.\"]}]}, {\"c\": [{\"v\": 3}, {\"v\": [\"Nice\", \"place.\", \"Very\", \"clean,\", \"they\", \"make\", \"the\", \"pizza\", \"right\", \"in\", \"front\", \"of\", \"you.\", \"The\", \"regular\", \"pricing\", \"is\", \"reasonable.\", \"Great\", \"location\", \"in\", \"Old\", \"Farm\", \"Shoppes\", \"and\", \"parking\", \"is\", \"always\", \"available.\", \"This\", \"is\", \"a\", \"quality\", \"place\", \"that\", \"is\", \"run\", \"right.\\nIt's\", \"not\", \"as\", \"good\", \"as\", \"Papa\", \"Del's\", \"but\", \"Papa\", \"Del's\", \"takes\", \"90\", \"minutes\", \"or\", \"longer\", \"to\", \"deliver\", \"a\", \"pizza\", \"that\", \"has\", \"often\", \"cooled\", \"or\", \"slid\", \"into\", \"a\", \"lump\", \"of\", \"cheese\", \"by\", \"the\", \"time\", \"the\", \"delivery\", \"boy\", \"finished\", \"smoking\", \"the\", \"doobie\", \"on\", \"the\", \"way\", \"to\", \"your\", \"house.\\nSo\", \"with\", \"Papa\", \"Murphy's\", \"it's\", \"no\", \"tip,\", \"hot\", \"out\", \"of\", \"your\", \"own\", \"oven,\", \"and\", \"Dow\", \"Chemical\", \"is\", \"happy\", \"because\", \"each\", \"pizza\", \"uses\", \"two\", \"square\", \"yards\", \"of\", \"Saran\", \"Wrap.\"]}]}], \"cols\": [{\"type\": \"number\", \"id\": \"stars\", \"label\": \"stars\"}, {\"type\": \"string\", \"id\": \"words\", \"label\": \"words\"}]},\n",
       "            {\n",
       "              pageSize: 25,\n",
       "              cssClassNames:  {\n",
       "                tableRow: 'gchart-table-row',\n",
       "                headerRow: 'gchart-table-headerrow',\n",
       "                oddTableRow: 'gchart-table-oddrow',\n",
       "                selectedTableRow: 'gchart-table-selectedrow',\n",
       "                hoverTableRow: 'gchart-table-hoverrow',\n",
       "                tableCell: 'gchart-table-cell',\n",
       "                headerCell: 'gchart-table-headercell',\n",
       "                rowNumberCell: 'gchart-table-rownumcell'\n",
       "              }\n",
       "            },\n",
       "            {source_index: 1, fields: 'stars,words'},\n",
       "            0,\n",
       "            3221555);\n",
       "        }\n",
       "      );\n",
       "    </script>\n",
       "  "
      ],
      "text/plain": [
       "QueryResultsTable job_kQZAKLDJLdcydT0JIvznLsL_iNr-"
      ]
     },
     "execution_count": 2,
     "metadata": {},
     "output_type": "execute_result"
    }
   ],
   "source": [
    "%%bq query\n",
    "SELECT stars, split(text, \" \") AS words\n",
    "FROM `team-8-bs-770-b.Yelp.RestauranReviews`"
   ]
  }
 ],
 "metadata": {
  "kernelspec": {
   "display_name": "Python 2",
   "language": "python",
   "name": "python2"
  },
  "language_info": {
   "codemirror_mode": {
    "name": "ipython",
    "version": 2
   },
   "file_extension": ".py",
   "mimetype": "text/x-python",
   "name": "python",
   "nbconvert_exporter": "python",
   "pygments_lexer": "ipython2",
   "version": "2.7.15"
  }
 },
 "nbformat": 4,
 "nbformat_minor": 2
}
